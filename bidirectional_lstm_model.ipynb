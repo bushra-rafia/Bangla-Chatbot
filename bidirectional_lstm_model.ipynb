{
  "cells": [
    {
      "cell_type": "markdown",
      "metadata": {
        "id": "view-in-github",
        "colab_type": "text"
      },
      "source": [
        "<a href=\"https://colab.research.google.com/github/bushra-rafia/Bangla-Chatbot/blob/master/bidirectional_lstm_model.ipynb\" target=\"_parent\"><img src=\"https://colab.research.google.com/assets/colab-badge.svg\" alt=\"Open In Colab\"/></a>"
      ]
    },
    {
      "cell_type": "markdown",
      "source": [
        "**Import Libraries**"
      ],
      "metadata": {
        "id": "h4sL3SBdWlfp"
      }
    },
    {
      "cell_type": "code",
      "source": [
        "import pandas as pd\n",
        "import numpy as np\n",
        "from sklearn.model_selection import train_test_split\n",
        "import os"
      ],
      "metadata": {
        "id": "Jo6tIqwUWpUy"
      },
      "execution_count": null,
      "outputs": []
    },
    {
      "cell_type": "code",
      "source": [
        "from google.colab import drive\n",
        "drive.mount('/content/drive')"
      ],
      "metadata": {
        "id": "UNIk5nBNWsPz"
      },
      "execution_count": null,
      "outputs": []
    },
    {
      "cell_type": "code",
      "execution_count": null,
      "metadata": {
        "id": "j2AlIrhh4BIU"
      },
      "outputs": [],
      "source": [
        "# loading the clean dataset\n",
        "df= pd.read_csv(\"/content/drive/MyDrive/CSE715-Project Group 6/Codebase/dataset/cleaned_dataset.csv\")"
      ]
    },
    {
      "cell_type": "code",
      "execution_count": null,
      "metadata": {
        "colab": {
          "base_uri": "https://localhost:8080/",
          "height": 206
        },
        "id": "V4bZvMvX4XaO",
        "outputId": "a3779968-956b-4379-8195-eeb2e660786c"
      },
      "outputs": [
        {
          "output_type": "execute_result",
          "data": {
            "text/plain": [
              "                                    Queries  \\\n",
              "0                                       হাই   \n",
              "1              আমি ভালো আছি তোমার কি অবস্থা   \n",
              "2  আমি অনেক ভালো জিজ্ঞাসা করার জন্য ধন্যবাদ   \n",
              "3                সমস্যা নেই তারপর কেমন ছিলে   \n",
              "4            আমি বেশ ভাল ছিলাম তোমার খবর কি   \n",
              "\n",
              "                                            Response  \n",
              "0                             শুরু হাই কেমন চলছে শেষ  \n",
              "1  শুরু আমি অনেক ভালো জিজ্ঞাসা করার জন্য ধন্যবাদ শেষ  \n",
              "2                শুরু সমস্যা নেই তারপর কেমন ছিলে শেষ  \n",
              "3            শুরু আমি বেশ ভাল ছিলাম তোমার খবর কি শেষ  \n",
              "4          শুরু আমি ভালোই আছি আমি এখন স্কুলে আছি শেষ  "
            ],
            "text/html": [
              "\n",
              "  <div id=\"df-1633f5dd-b0ef-4816-b9ab-fd570e211dd0\" class=\"colab-df-container\">\n",
              "    <div>\n",
              "<style scoped>\n",
              "    .dataframe tbody tr th:only-of-type {\n",
              "        vertical-align: middle;\n",
              "    }\n",
              "\n",
              "    .dataframe tbody tr th {\n",
              "        vertical-align: top;\n",
              "    }\n",
              "\n",
              "    .dataframe thead th {\n",
              "        text-align: right;\n",
              "    }\n",
              "</style>\n",
              "<table border=\"1\" class=\"dataframe\">\n",
              "  <thead>\n",
              "    <tr style=\"text-align: right;\">\n",
              "      <th></th>\n",
              "      <th>Queries</th>\n",
              "      <th>Response</th>\n",
              "    </tr>\n",
              "  </thead>\n",
              "  <tbody>\n",
              "    <tr>\n",
              "      <th>0</th>\n",
              "      <td>হাই</td>\n",
              "      <td>শুরু হাই কেমন চলছে শেষ</td>\n",
              "    </tr>\n",
              "    <tr>\n",
              "      <th>1</th>\n",
              "      <td>আমি ভালো আছি তোমার কি অবস্থা</td>\n",
              "      <td>শুরু আমি অনেক ভালো জিজ্ঞাসা করার জন্য ধন্যবাদ শেষ</td>\n",
              "    </tr>\n",
              "    <tr>\n",
              "      <th>2</th>\n",
              "      <td>আমি অনেক ভালো জিজ্ঞাসা করার জন্য ধন্যবাদ</td>\n",
              "      <td>শুরু সমস্যা নেই তারপর কেমন ছিলে শেষ</td>\n",
              "    </tr>\n",
              "    <tr>\n",
              "      <th>3</th>\n",
              "      <td>সমস্যা নেই তারপর কেমন ছিলে</td>\n",
              "      <td>শুরু আমি বেশ ভাল ছিলাম তোমার খবর কি শেষ</td>\n",
              "    </tr>\n",
              "    <tr>\n",
              "      <th>4</th>\n",
              "      <td>আমি বেশ ভাল ছিলাম তোমার খবর কি</td>\n",
              "      <td>শুরু আমি ভালোই আছি আমি এখন স্কুলে আছি শেষ</td>\n",
              "    </tr>\n",
              "  </tbody>\n",
              "</table>\n",
              "</div>\n",
              "    <div class=\"colab-df-buttons\">\n",
              "\n",
              "  <div class=\"colab-df-container\">\n",
              "    <button class=\"colab-df-convert\" onclick=\"convertToInteractive('df-1633f5dd-b0ef-4816-b9ab-fd570e211dd0')\"\n",
              "            title=\"Convert this dataframe to an interactive table.\"\n",
              "            style=\"display:none;\">\n",
              "\n",
              "  <svg xmlns=\"http://www.w3.org/2000/svg\" height=\"24px\" viewBox=\"0 -960 960 960\">\n",
              "    <path d=\"M120-120v-720h720v720H120Zm60-500h600v-160H180v160Zm220 220h160v-160H400v160Zm0 220h160v-160H400v160ZM180-400h160v-160H180v160Zm440 0h160v-160H620v160ZM180-180h160v-160H180v160Zm440 0h160v-160H620v160Z\"/>\n",
              "  </svg>\n",
              "    </button>\n",
              "\n",
              "  <style>\n",
              "    .colab-df-container {\n",
              "      display:flex;\n",
              "      gap: 12px;\n",
              "    }\n",
              "\n",
              "    .colab-df-convert {\n",
              "      background-color: #E8F0FE;\n",
              "      border: none;\n",
              "      border-radius: 50%;\n",
              "      cursor: pointer;\n",
              "      display: none;\n",
              "      fill: #1967D2;\n",
              "      height: 32px;\n",
              "      padding: 0 0 0 0;\n",
              "      width: 32px;\n",
              "    }\n",
              "\n",
              "    .colab-df-convert:hover {\n",
              "      background-color: #E2EBFA;\n",
              "      box-shadow: 0px 1px 2px rgba(60, 64, 67, 0.3), 0px 1px 3px 1px rgba(60, 64, 67, 0.15);\n",
              "      fill: #174EA6;\n",
              "    }\n",
              "\n",
              "    .colab-df-buttons div {\n",
              "      margin-bottom: 4px;\n",
              "    }\n",
              "\n",
              "    [theme=dark] .colab-df-convert {\n",
              "      background-color: #3B4455;\n",
              "      fill: #D2E3FC;\n",
              "    }\n",
              "\n",
              "    [theme=dark] .colab-df-convert:hover {\n",
              "      background-color: #434B5C;\n",
              "      box-shadow: 0px 1px 3px 1px rgba(0, 0, 0, 0.15);\n",
              "      filter: drop-shadow(0px 1px 2px rgba(0, 0, 0, 0.3));\n",
              "      fill: #FFFFFF;\n",
              "    }\n",
              "  </style>\n",
              "\n",
              "    <script>\n",
              "      const buttonEl =\n",
              "        document.querySelector('#df-1633f5dd-b0ef-4816-b9ab-fd570e211dd0 button.colab-df-convert');\n",
              "      buttonEl.style.display =\n",
              "        google.colab.kernel.accessAllowed ? 'block' : 'none';\n",
              "\n",
              "      async function convertToInteractive(key) {\n",
              "        const element = document.querySelector('#df-1633f5dd-b0ef-4816-b9ab-fd570e211dd0');\n",
              "        const dataTable =\n",
              "          await google.colab.kernel.invokeFunction('convertToInteractive',\n",
              "                                                    [key], {});\n",
              "        if (!dataTable) return;\n",
              "\n",
              "        const docLinkHtml = 'Like what you see? Visit the ' +\n",
              "          '<a target=\"_blank\" href=https://colab.research.google.com/notebooks/data_table.ipynb>data table notebook</a>'\n",
              "          + ' to learn more about interactive tables.';\n",
              "        element.innerHTML = '';\n",
              "        dataTable['output_type'] = 'display_data';\n",
              "        await google.colab.output.renderOutput(dataTable, element);\n",
              "        const docLink = document.createElement('div');\n",
              "        docLink.innerHTML = docLinkHtml;\n",
              "        element.appendChild(docLink);\n",
              "      }\n",
              "    </script>\n",
              "  </div>\n",
              "\n",
              "\n",
              "<div id=\"df-037adb35-5664-411b-9111-22277702bf47\">\n",
              "  <button class=\"colab-df-quickchart\" onclick=\"quickchart('df-037adb35-5664-411b-9111-22277702bf47')\"\n",
              "            title=\"Suggest charts\"\n",
              "            style=\"display:none;\">\n",
              "\n",
              "<svg xmlns=\"http://www.w3.org/2000/svg\" height=\"24px\"viewBox=\"0 0 24 24\"\n",
              "     width=\"24px\">\n",
              "    <g>\n",
              "        <path d=\"M19 3H5c-1.1 0-2 .9-2 2v14c0 1.1.9 2 2 2h14c1.1 0 2-.9 2-2V5c0-1.1-.9-2-2-2zM9 17H7v-7h2v7zm4 0h-2V7h2v10zm4 0h-2v-4h2v4z\"/>\n",
              "    </g>\n",
              "</svg>\n",
              "  </button>\n",
              "\n",
              "<style>\n",
              "  .colab-df-quickchart {\n",
              "      --bg-color: #E8F0FE;\n",
              "      --fill-color: #1967D2;\n",
              "      --hover-bg-color: #E2EBFA;\n",
              "      --hover-fill-color: #174EA6;\n",
              "      --disabled-fill-color: #AAA;\n",
              "      --disabled-bg-color: #DDD;\n",
              "  }\n",
              "\n",
              "  [theme=dark] .colab-df-quickchart {\n",
              "      --bg-color: #3B4455;\n",
              "      --fill-color: #D2E3FC;\n",
              "      --hover-bg-color: #434B5C;\n",
              "      --hover-fill-color: #FFFFFF;\n",
              "      --disabled-bg-color: #3B4455;\n",
              "      --disabled-fill-color: #666;\n",
              "  }\n",
              "\n",
              "  .colab-df-quickchart {\n",
              "    background-color: var(--bg-color);\n",
              "    border: none;\n",
              "    border-radius: 50%;\n",
              "    cursor: pointer;\n",
              "    display: none;\n",
              "    fill: var(--fill-color);\n",
              "    height: 32px;\n",
              "    padding: 0;\n",
              "    width: 32px;\n",
              "  }\n",
              "\n",
              "  .colab-df-quickchart:hover {\n",
              "    background-color: var(--hover-bg-color);\n",
              "    box-shadow: 0 1px 2px rgba(60, 64, 67, 0.3), 0 1px 3px 1px rgba(60, 64, 67, 0.15);\n",
              "    fill: var(--button-hover-fill-color);\n",
              "  }\n",
              "\n",
              "  .colab-df-quickchart-complete:disabled,\n",
              "  .colab-df-quickchart-complete:disabled:hover {\n",
              "    background-color: var(--disabled-bg-color);\n",
              "    fill: var(--disabled-fill-color);\n",
              "    box-shadow: none;\n",
              "  }\n",
              "\n",
              "  .colab-df-spinner {\n",
              "    border: 2px solid var(--fill-color);\n",
              "    border-color: transparent;\n",
              "    border-bottom-color: var(--fill-color);\n",
              "    animation:\n",
              "      spin 1s steps(1) infinite;\n",
              "  }\n",
              "\n",
              "  @keyframes spin {\n",
              "    0% {\n",
              "      border-color: transparent;\n",
              "      border-bottom-color: var(--fill-color);\n",
              "      border-left-color: var(--fill-color);\n",
              "    }\n",
              "    20% {\n",
              "      border-color: transparent;\n",
              "      border-left-color: var(--fill-color);\n",
              "      border-top-color: var(--fill-color);\n",
              "    }\n",
              "    30% {\n",
              "      border-color: transparent;\n",
              "      border-left-color: var(--fill-color);\n",
              "      border-top-color: var(--fill-color);\n",
              "      border-right-color: var(--fill-color);\n",
              "    }\n",
              "    40% {\n",
              "      border-color: transparent;\n",
              "      border-right-color: var(--fill-color);\n",
              "      border-top-color: var(--fill-color);\n",
              "    }\n",
              "    60% {\n",
              "      border-color: transparent;\n",
              "      border-right-color: var(--fill-color);\n",
              "    }\n",
              "    80% {\n",
              "      border-color: transparent;\n",
              "      border-right-color: var(--fill-color);\n",
              "      border-bottom-color: var(--fill-color);\n",
              "    }\n",
              "    90% {\n",
              "      border-color: transparent;\n",
              "      border-bottom-color: var(--fill-color);\n",
              "    }\n",
              "  }\n",
              "</style>\n",
              "\n",
              "  <script>\n",
              "    async function quickchart(key) {\n",
              "      const quickchartButtonEl =\n",
              "        document.querySelector('#' + key + ' button');\n",
              "      quickchartButtonEl.disabled = true;  // To prevent multiple clicks.\n",
              "      quickchartButtonEl.classList.add('colab-df-spinner');\n",
              "      try {\n",
              "        const charts = await google.colab.kernel.invokeFunction(\n",
              "            'suggestCharts', [key], {});\n",
              "      } catch (error) {\n",
              "        console.error('Error during call to suggestCharts:', error);\n",
              "      }\n",
              "      quickchartButtonEl.classList.remove('colab-df-spinner');\n",
              "      quickchartButtonEl.classList.add('colab-df-quickchart-complete');\n",
              "    }\n",
              "    (() => {\n",
              "      let quickchartButtonEl =\n",
              "        document.querySelector('#df-037adb35-5664-411b-9111-22277702bf47 button');\n",
              "      quickchartButtonEl.style.display =\n",
              "        google.colab.kernel.accessAllowed ? 'block' : 'none';\n",
              "    })();\n",
              "  </script>\n",
              "</div>\n",
              "    </div>\n",
              "  </div>\n"
            ]
          },
          "metadata": {},
          "execution_count": 123
        }
      ],
      "source": [
        "df.head()"
      ]
    },
    {
      "cell_type": "code",
      "source": [
        "df.tail()"
      ],
      "metadata": {
        "colab": {
          "base_uri": "https://localhost:8080/",
          "height": 206
        },
        "id": "l2JmTO7NYIhe",
        "outputId": "84931df5-9fa2-44ab-acf5-7b64c328456a"
      },
      "execution_count": null,
      "outputs": [
        {
          "output_type": "execute_result",
          "data": {
            "text/plain": [
              "                             Queries                                 Response\n",
              "1258    তারা আপনাকে আবার চিৎকার করবে       শুরু চিৎকার কোন ভাল কাজ করে না শেষ\n",
              "1259       চিৎকার কোন ভাল কাজ করে না        শুরু আপনি কি এই ফর্মটা দেখবেন শেষ\n",
              "1260        আপনি কি এই ফর্মটা দেখবেন  শুরু এতে কি আপনার কোনো সমস্যা হচ্ছে শেষ\n",
              "1261  এতে কি আপনার কোনো সমস্যা হচ্ছে   শুরু আমি কিছু জিনিস বুঝতে পারছি না শেষ\n",
              "1262   আমি কিছু জিনিস বুঝতে পারছি না       শুরু বুঝিয়ে দিচ্ছি  সমস্যা নেই শেষ"
            ],
            "text/html": [
              "\n",
              "  <div id=\"df-a9ba4e1d-4e34-495f-8d12-35cf68235bd5\" class=\"colab-df-container\">\n",
              "    <div>\n",
              "<style scoped>\n",
              "    .dataframe tbody tr th:only-of-type {\n",
              "        vertical-align: middle;\n",
              "    }\n",
              "\n",
              "    .dataframe tbody tr th {\n",
              "        vertical-align: top;\n",
              "    }\n",
              "\n",
              "    .dataframe thead th {\n",
              "        text-align: right;\n",
              "    }\n",
              "</style>\n",
              "<table border=\"1\" class=\"dataframe\">\n",
              "  <thead>\n",
              "    <tr style=\"text-align: right;\">\n",
              "      <th></th>\n",
              "      <th>Queries</th>\n",
              "      <th>Response</th>\n",
              "    </tr>\n",
              "  </thead>\n",
              "  <tbody>\n",
              "    <tr>\n",
              "      <th>1258</th>\n",
              "      <td>তারা আপনাকে আবার চিৎকার করবে</td>\n",
              "      <td>শুরু চিৎকার কোন ভাল কাজ করে না শেষ</td>\n",
              "    </tr>\n",
              "    <tr>\n",
              "      <th>1259</th>\n",
              "      <td>চিৎকার কোন ভাল কাজ করে না</td>\n",
              "      <td>শুরু আপনি কি এই ফর্মটা দেখবেন শেষ</td>\n",
              "    </tr>\n",
              "    <tr>\n",
              "      <th>1260</th>\n",
              "      <td>আপনি কি এই ফর্মটা দেখবেন</td>\n",
              "      <td>শুরু এতে কি আপনার কোনো সমস্যা হচ্ছে শেষ</td>\n",
              "    </tr>\n",
              "    <tr>\n",
              "      <th>1261</th>\n",
              "      <td>এতে কি আপনার কোনো সমস্যা হচ্ছে</td>\n",
              "      <td>শুরু আমি কিছু জিনিস বুঝতে পারছি না শেষ</td>\n",
              "    </tr>\n",
              "    <tr>\n",
              "      <th>1262</th>\n",
              "      <td>আমি কিছু জিনিস বুঝতে পারছি না</td>\n",
              "      <td>শুরু বুঝিয়ে দিচ্ছি  সমস্যা নেই শেষ</td>\n",
              "    </tr>\n",
              "  </tbody>\n",
              "</table>\n",
              "</div>\n",
              "    <div class=\"colab-df-buttons\">\n",
              "\n",
              "  <div class=\"colab-df-container\">\n",
              "    <button class=\"colab-df-convert\" onclick=\"convertToInteractive('df-a9ba4e1d-4e34-495f-8d12-35cf68235bd5')\"\n",
              "            title=\"Convert this dataframe to an interactive table.\"\n",
              "            style=\"display:none;\">\n",
              "\n",
              "  <svg xmlns=\"http://www.w3.org/2000/svg\" height=\"24px\" viewBox=\"0 -960 960 960\">\n",
              "    <path d=\"M120-120v-720h720v720H120Zm60-500h600v-160H180v160Zm220 220h160v-160H400v160Zm0 220h160v-160H400v160ZM180-400h160v-160H180v160Zm440 0h160v-160H620v160ZM180-180h160v-160H180v160Zm440 0h160v-160H620v160Z\"/>\n",
              "  </svg>\n",
              "    </button>\n",
              "\n",
              "  <style>\n",
              "    .colab-df-container {\n",
              "      display:flex;\n",
              "      gap: 12px;\n",
              "    }\n",
              "\n",
              "    .colab-df-convert {\n",
              "      background-color: #E8F0FE;\n",
              "      border: none;\n",
              "      border-radius: 50%;\n",
              "      cursor: pointer;\n",
              "      display: none;\n",
              "      fill: #1967D2;\n",
              "      height: 32px;\n",
              "      padding: 0 0 0 0;\n",
              "      width: 32px;\n",
              "    }\n",
              "\n",
              "    .colab-df-convert:hover {\n",
              "      background-color: #E2EBFA;\n",
              "      box-shadow: 0px 1px 2px rgba(60, 64, 67, 0.3), 0px 1px 3px 1px rgba(60, 64, 67, 0.15);\n",
              "      fill: #174EA6;\n",
              "    }\n",
              "\n",
              "    .colab-df-buttons div {\n",
              "      margin-bottom: 4px;\n",
              "    }\n",
              "\n",
              "    [theme=dark] .colab-df-convert {\n",
              "      background-color: #3B4455;\n",
              "      fill: #D2E3FC;\n",
              "    }\n",
              "\n",
              "    [theme=dark] .colab-df-convert:hover {\n",
              "      background-color: #434B5C;\n",
              "      box-shadow: 0px 1px 3px 1px rgba(0, 0, 0, 0.15);\n",
              "      filter: drop-shadow(0px 1px 2px rgba(0, 0, 0, 0.3));\n",
              "      fill: #FFFFFF;\n",
              "    }\n",
              "  </style>\n",
              "\n",
              "    <script>\n",
              "      const buttonEl =\n",
              "        document.querySelector('#df-a9ba4e1d-4e34-495f-8d12-35cf68235bd5 button.colab-df-convert');\n",
              "      buttonEl.style.display =\n",
              "        google.colab.kernel.accessAllowed ? 'block' : 'none';\n",
              "\n",
              "      async function convertToInteractive(key) {\n",
              "        const element = document.querySelector('#df-a9ba4e1d-4e34-495f-8d12-35cf68235bd5');\n",
              "        const dataTable =\n",
              "          await google.colab.kernel.invokeFunction('convertToInteractive',\n",
              "                                                    [key], {});\n",
              "        if (!dataTable) return;\n",
              "\n",
              "        const docLinkHtml = 'Like what you see? Visit the ' +\n",
              "          '<a target=\"_blank\" href=https://colab.research.google.com/notebooks/data_table.ipynb>data table notebook</a>'\n",
              "          + ' to learn more about interactive tables.';\n",
              "        element.innerHTML = '';\n",
              "        dataTable['output_type'] = 'display_data';\n",
              "        await google.colab.output.renderOutput(dataTable, element);\n",
              "        const docLink = document.createElement('div');\n",
              "        docLink.innerHTML = docLinkHtml;\n",
              "        element.appendChild(docLink);\n",
              "      }\n",
              "    </script>\n",
              "  </div>\n",
              "\n",
              "\n",
              "<div id=\"df-7fc9cc91-00b9-460e-bb2a-40bed3235b96\">\n",
              "  <button class=\"colab-df-quickchart\" onclick=\"quickchart('df-7fc9cc91-00b9-460e-bb2a-40bed3235b96')\"\n",
              "            title=\"Suggest charts\"\n",
              "            style=\"display:none;\">\n",
              "\n",
              "<svg xmlns=\"http://www.w3.org/2000/svg\" height=\"24px\"viewBox=\"0 0 24 24\"\n",
              "     width=\"24px\">\n",
              "    <g>\n",
              "        <path d=\"M19 3H5c-1.1 0-2 .9-2 2v14c0 1.1.9 2 2 2h14c1.1 0 2-.9 2-2V5c0-1.1-.9-2-2-2zM9 17H7v-7h2v7zm4 0h-2V7h2v10zm4 0h-2v-4h2v4z\"/>\n",
              "    </g>\n",
              "</svg>\n",
              "  </button>\n",
              "\n",
              "<style>\n",
              "  .colab-df-quickchart {\n",
              "      --bg-color: #E8F0FE;\n",
              "      --fill-color: #1967D2;\n",
              "      --hover-bg-color: #E2EBFA;\n",
              "      --hover-fill-color: #174EA6;\n",
              "      --disabled-fill-color: #AAA;\n",
              "      --disabled-bg-color: #DDD;\n",
              "  }\n",
              "\n",
              "  [theme=dark] .colab-df-quickchart {\n",
              "      --bg-color: #3B4455;\n",
              "      --fill-color: #D2E3FC;\n",
              "      --hover-bg-color: #434B5C;\n",
              "      --hover-fill-color: #FFFFFF;\n",
              "      --disabled-bg-color: #3B4455;\n",
              "      --disabled-fill-color: #666;\n",
              "  }\n",
              "\n",
              "  .colab-df-quickchart {\n",
              "    background-color: var(--bg-color);\n",
              "    border: none;\n",
              "    border-radius: 50%;\n",
              "    cursor: pointer;\n",
              "    display: none;\n",
              "    fill: var(--fill-color);\n",
              "    height: 32px;\n",
              "    padding: 0;\n",
              "    width: 32px;\n",
              "  }\n",
              "\n",
              "  .colab-df-quickchart:hover {\n",
              "    background-color: var(--hover-bg-color);\n",
              "    box-shadow: 0 1px 2px rgba(60, 64, 67, 0.3), 0 1px 3px 1px rgba(60, 64, 67, 0.15);\n",
              "    fill: var(--button-hover-fill-color);\n",
              "  }\n",
              "\n",
              "  .colab-df-quickchart-complete:disabled,\n",
              "  .colab-df-quickchart-complete:disabled:hover {\n",
              "    background-color: var(--disabled-bg-color);\n",
              "    fill: var(--disabled-fill-color);\n",
              "    box-shadow: none;\n",
              "  }\n",
              "\n",
              "  .colab-df-spinner {\n",
              "    border: 2px solid var(--fill-color);\n",
              "    border-color: transparent;\n",
              "    border-bottom-color: var(--fill-color);\n",
              "    animation:\n",
              "      spin 1s steps(1) infinite;\n",
              "  }\n",
              "\n",
              "  @keyframes spin {\n",
              "    0% {\n",
              "      border-color: transparent;\n",
              "      border-bottom-color: var(--fill-color);\n",
              "      border-left-color: var(--fill-color);\n",
              "    }\n",
              "    20% {\n",
              "      border-color: transparent;\n",
              "      border-left-color: var(--fill-color);\n",
              "      border-top-color: var(--fill-color);\n",
              "    }\n",
              "    30% {\n",
              "      border-color: transparent;\n",
              "      border-left-color: var(--fill-color);\n",
              "      border-top-color: var(--fill-color);\n",
              "      border-right-color: var(--fill-color);\n",
              "    }\n",
              "    40% {\n",
              "      border-color: transparent;\n",
              "      border-right-color: var(--fill-color);\n",
              "      border-top-color: var(--fill-color);\n",
              "    }\n",
              "    60% {\n",
              "      border-color: transparent;\n",
              "      border-right-color: var(--fill-color);\n",
              "    }\n",
              "    80% {\n",
              "      border-color: transparent;\n",
              "      border-right-color: var(--fill-color);\n",
              "      border-bottom-color: var(--fill-color);\n",
              "    }\n",
              "    90% {\n",
              "      border-color: transparent;\n",
              "      border-bottom-color: var(--fill-color);\n",
              "    }\n",
              "  }\n",
              "</style>\n",
              "\n",
              "  <script>\n",
              "    async function quickchart(key) {\n",
              "      const quickchartButtonEl =\n",
              "        document.querySelector('#' + key + ' button');\n",
              "      quickchartButtonEl.disabled = true;  // To prevent multiple clicks.\n",
              "      quickchartButtonEl.classList.add('colab-df-spinner');\n",
              "      try {\n",
              "        const charts = await google.colab.kernel.invokeFunction(\n",
              "            'suggestCharts', [key], {});\n",
              "      } catch (error) {\n",
              "        console.error('Error during call to suggestCharts:', error);\n",
              "      }\n",
              "      quickchartButtonEl.classList.remove('colab-df-spinner');\n",
              "      quickchartButtonEl.classList.add('colab-df-quickchart-complete');\n",
              "    }\n",
              "    (() => {\n",
              "      let quickchartButtonEl =\n",
              "        document.querySelector('#df-7fc9cc91-00b9-460e-bb2a-40bed3235b96 button');\n",
              "      quickchartButtonEl.style.display =\n",
              "        google.colab.kernel.accessAllowed ? 'block' : 'none';\n",
              "    })();\n",
              "  </script>\n",
              "</div>\n",
              "    </div>\n",
              "  </div>\n"
            ]
          },
          "metadata": {},
          "execution_count": 124
        }
      ]
    },
    {
      "cell_type": "markdown",
      "metadata": {
        "id": "Wj35RTH-2Hev"
      },
      "source": [
        "**Tokenization**"
      ]
    },
    {
      "cell_type": "code",
      "execution_count": null,
      "metadata": {
        "id": "DmKPxJoM2KRE"
      },
      "outputs": [],
      "source": [
        "from tensorflow.keras.preprocessing.text import Tokenizer"
      ]
    },
    {
      "cell_type": "code",
      "execution_count": null,
      "metadata": {
        "id": "0414wsBR4TQ2"
      },
      "outputs": [],
      "source": [
        "def tokenize_sent(text):\n",
        "  '''\n",
        "  Take list on texts as input and\n",
        "  returns its tokenizer and enocded text\n",
        "  '''\n",
        "  tokenizer = Tokenizer()\n",
        "  tokenizer.fit_on_texts(text)\n",
        "\n",
        "  return tokenizer, tokenizer.texts_to_sequences(text)"
      ]
    },
    {
      "cell_type": "code",
      "execution_count": null,
      "metadata": {
        "id": "pHt0pCMx4g5f"
      },
      "outputs": [],
      "source": [
        "# get in one list\n",
        "queries = df.Queries.astype(str).to_list()\n",
        "response = df.Response.astype(str).to_list()"
      ]
    },
    {
      "cell_type": "code",
      "execution_count": null,
      "metadata": {
        "id": "slnEvgJj4VQO"
      },
      "outputs": [],
      "source": [
        "ques_tokenizer, ques_encoded= tokenize_sent(text= queries)\n",
        "ans_tokenizer, ans_encoded= tokenize_sent(text= response)"
      ]
    },
    {
      "cell_type": "code",
      "execution_count": null,
      "metadata": {
        "colab": {
          "base_uri": "https://localhost:8080/"
        },
        "id": "1NbCnnEw40h3",
        "outputId": "c2ead80e-0a97-4bf0-9f0f-266ad435d4d4"
      },
      "outputs": [
        {
          "output_type": "execute_result",
          "data": {
            "text/plain": [
              "1263"
            ]
          },
          "metadata": {},
          "execution_count": 129
        }
      ],
      "source": [
        "len(ques_encoded)\n",
        "len(ans_encoded)"
      ]
    },
    {
      "cell_type": "code",
      "execution_count": null,
      "metadata": {
        "colab": {
          "base_uri": "https://localhost:8080/"
        },
        "id": "-3atHIJN47tU",
        "outputId": "5f6f101f-6653-43d0-c984-8be3509e9850"
      },
      "outputs": [
        {
          "output_type": "execute_result",
          "data": {
            "text/plain": [
              "[[1, 52, 274, 11],\n",
              " [35, 1, 90, 11, 15, 23, 92, 741, 10, 41],\n",
              " [1, 75, 1, 12, 194, 26, 107],\n",
              " [33, 3, 156, 17, 349, 84, 12, 742],\n",
              " [7, 34, 344, 101, 476, 225, 262, 123, 743, 744]]"
            ]
          },
          "metadata": {},
          "execution_count": 130
        }
      ],
      "source": [
        "ques_encoded[100:105]"
      ]
    },
    {
      "cell_type": "code",
      "execution_count": null,
      "metadata": {
        "colab": {
          "base_uri": "https://localhost:8080/"
        },
        "id": "tjiJtciP49as",
        "outputId": "c4e71548-0b46-4940-bb51-e169767f94f0"
      },
      "outputs": [
        {
          "output_type": "execute_result",
          "data": {
            "text/plain": [
              "[]"
            ]
          },
          "metadata": {},
          "execution_count": 131
        }
      ],
      "source": [
        "ans_encoded[1500:1505]"
      ]
    },
    {
      "cell_type": "code",
      "execution_count": null,
      "metadata": {
        "colab": {
          "base_uri": "https://localhost:8080/"
        },
        "id": "zb98mbxU9TSC",
        "outputId": "c756c36b-781b-424a-eb34-e5ef73d70fe4"
      },
      "outputs": [
        {
          "output_type": "stream",
          "name": "stdout",
          "text": [
            "{1: 'আমি', 2: 'কি', 3: 'আপনি', 4: 'এটা', 5: 'না', 6: 'আমার', 7: 'তুমি', 8: 'আপনার', 9: 'একটি', 10: 'হবে'}\n"
          ]
        }
      ],
      "source": [
        "ques_index_word = ques_tokenizer.index_word\n",
        "print({key: ques_index_word[key] for key in list(ques_index_word.keys())[:10]})"
      ]
    },
    {
      "cell_type": "code",
      "execution_count": null,
      "metadata": {
        "colab": {
          "base_uri": "https://localhost:8080/"
        },
        "id": "MhI0gaK09VtV",
        "outputId": "b782b0c2-1b78-4137-ac77-9146cdd71685"
      },
      "outputs": [
        {
          "output_type": "stream",
          "name": "stdout",
          "text": [
            "OrderedDict([('হাই', 4), ('আমি', 454), ('ভালো', 30), ('আছি', 6), ('তোমার', 35), ('কি', 227), ('অবস্থা', 7), ('অনেক', 33), ('জিজ্ঞাসা', 4), ('করার', 12), ('জন্য', 36), ('ধন্যবাদ', 19), ('সমস্যা', 8), ('নেই', 16), ('তারপর', 4), ('কেমন', 19), ('ছিলে', 2), ('বেশ', 12), ('ভাল', 34), ('ছিলাম', 7), ('খবর', 9), ('ভালোই', 1), ('এখন', 12), ('স্কুলে', 30), ('তুমি', 91), ('যাও', 3), ('হ্যাঁ', 49), ('যাই।', 2), ('সেখানে', 13), ('পছন্দ', 33), ('করো', 4), ('এটা', 169), ('বড়', 10), ('ক্যাম্পাস', 1), ('স্কুলের', 2), ('শুভকামনা।', 1), ('চলছে', 2), ('কী', 18), ('ধন্যবাদ।', 3), ('তো', 3), ('ইদানীং', 7), ('আছো', 3), ('আসলে', 6), ('ছিলাম।', 11), ('আপনি', 176), ('আছি।', 1), ('কোন', 30), ('পড়েন', 1), ('বাংলা', 1), ('পড়ছি', 1), ('লাগছে', 3), ('খারাপ', 13), ('না', 126), ('মানুষ', 8), ('আছে।', 7), ('সৌভাগ্য', 1), ('কামনা', 1), ('করছি', 18), ('আজ', 31), ('বোধ', 5), ('করছেন', 11), ('খুব', 31), ('একেবারে', 4), ('আপনাকে', 27), ('আপনার', 74), ('দিনকাল', 1), ('যাচ্ছে', 4), ('সম্প্রতি', 3), ('স্কুল', 5), ('শুরু', 16), ('করেছি।', 9), ('কোথায়', 9), ('যাচ্ছ', 4), ('ঢাকায়', 1), ('একটি', 74), ('পড়ি', 1), ('পর্যন্ত', 8), ('লাগলো', 5), ('আমার', 113), ('ভাললাগছে', 1), ('আজকের', 2), ('দিনটি', 2), ('সেইটাই', 1), ('মনে', 60), ('হচ্ছে', 15), ('বৃষ্টি', 23), ('হতে', 16), ('পারে।', 2), ('গ্রীষ্মের', 3), ('মাঝামাঝি', 1), ('হওয়া', 5), ('উচিত', 16), ('নয়।', 4), ('হলে', 12), ('অস্বাভাবিক', 1), ('হবে', 68), ('বিশেষ', 3), ('করে', 23), ('যেহেতু', 1), ('এটি', 59), ('গরমকাল', 1), ('জানি', 16), ('এবং', 39), ('বাইরে', 7), ('গরম', 5), ('ভয়ানক', 2), ('হবে।', 14), ('সত্যিই', 66), ('চাই', 28), ('প্রতিদিন', 3), ('যেন', 1), ('এত', 9), ('হয়', 34), ('আমিওআমি', 1), ('শীতকাল', 3), ('অপেক্ষা', 7), ('করতে', 60), ('পারছিনা', 1), ('না।', 31), ('আমিও', 18), ('শীত', 3), ('করি', 67), ('কিন্তু', 35), ('মাঝে', 4), ('ঠান্ডা', 9), ('লাগে।', 1), ('বরং', 1), ('গরমের', 2), ('চেয়ে', 3), ('বেশি', 8), ('আবহাওয়া', 1), ('ঠিক', 35), ('বলছো', 3), ('পরে', 11), ('মাঝখানে', 2), ('তাপমাত্রা', 1), ('নব্বই', 2), ('ডিগ্রী', 2), ('অবাক', 1), ('হবো', 1), ('আজকে', 1), ('একদম', 1), ('বলেছ', 1), ('একদিন', 1), ('হয়ে', 5), ('যাবে।', 1), ('অনুভব', 8), ('শীঘ্রই', 6), ('আসুক।', 1), ('উপভোগ', 11), ('কখনও', 6), ('যায়।', 2), ('বলতে', 15), ('চাচ্ছেন', 3), ('চাই।', 12), ('আরও', 4), ('সুন্দর', 24), ('হোক।', 1), ('ঐটা', 2), ('সত্য', 4), ('আশা', 14), ('এখনই', 1), ('অদ্ভুত', 2), ('যদি', 13), ('আবহাওয়ায়', 1), ('হয়।', 5), ('এই', 43), ('মুহূর্তে', 2), ('অর্থহীন', 1), ('কিছুটা', 1), ('পারি', 11), ('মহান', 7), ('পেতে', 3), ('দিন', 8), ('পারে', 2), ('বলে', 19), ('হচ্ছে।', 1), ('যে', 53), ('করে।', 2), ('কেন', 49), ('ভালোবাসি', 5), ('কিভাবে', 14), ('বাতাস', 3), ('পরিষ্কার', 8), ('বৃষ্টির', 8), ('সবসময়', 6), ('তাই', 24), ('তাজা', 1), ('গন্ধ', 16), ('পর', 6), ('রাতের', 7), ('করি।', 19), ('কারণ', 17), ('তারাকে', 1), ('পুরোপুরি', 1), ('দেখতে', 42), ('পারেন।', 1), ('আকাশ', 2), ('কতটা', 3), ('তা', 17), ('একই', 6), ('ভাবে', 1), ('যখন', 4), ('তারাগুলোকে', 1), ('কাছাকাছি', 2), ('দেখায়।', 2), ('করেন', 19), ('বুঝেছি', 1), ('তোলে', 1), ('রাতে', 2), ('সবচেয়ে', 4), ('ভালোবাসি।', 2), ('তারাগুলিকে', 1), ('স্পষ্টভাবে', 1), ('পাবেন।', 1), ('সপ্তাহান্তে', 14), ('সৈকতে', 6), ('যেতে', 40), ('মজার', 16), ('মত', 10), ('শোনাচ্ছে', 8), ('আবহাওয়া', 15), ('শুনেছি', 4), ('চলেছে।', 1), ('নিখুঁত', 2), ('সৈকত', 2), ('বিশ্বাস', 4), ('শীতল', 1), ('জানেন', 8), ('ক্যালিফোর্নিয়ার', 3), ('অনির্দেশ্য।', 1), ('এক', 13), ('মিনিট', 2), ('পরের', 10), ('মিনিটে', 1), ('ঠান্ডা।', 1), ('থাকতে', 4), ('চান', 26), ('এইভাবে', 1), ('আমরা', 15), ('আমাদের', 23), ('কার্যক্রম', 1), ('সময়ের', 2), ('আগে', 14), ('পরিকল্পনা', 6), ('পারি।', 3), ('সমুদ্র', 3), ('ট্রিপ', 2), ('নিতে', 4), ('মজাদার', 1), ('পূর্বাভাস', 1), ('উষ্ণ', 3), ('সৈকতের', 1), ('উপযুক্ত', 1), ('জিনিসগুলিকে', 1), ('নষ্ট', 2), ('করবে', 4), ('খারাপভাবে', 1), ('অপ্রত্যাশিত', 1), ('কখনই', 2), ('ক্রমাগত', 1), ('পরিবর্তিত', 1), ('আবহাওয়ার', 2), ('পরিবর্তন', 5), ('চমৎকার', 9), ('তাহলে', 15), ('কিছু', 47), ('পারতাম।', 1), ('লাগবে।', 1), ('অনুমিত', 1), ('ট্রিপটি', 1), ('থাকবে।', 1), ('এতটাই', 1), ('অনিশ্চিত', 1), ('ঘটবে', 1), ('জানা', 1), ('অসম্ভব।', 1), ('ভিন্ন', 2), ('করব', 16), ('অনির্দেশ্য', 1), ('হ্যালো', 1), ('অ্যালিসের', 1), ('সাথে', 40), ('কথা', 36), ('সে', 37), ('সারাদিন', 2), ('তোমাকে', 25), ('কল', 6), ('চেষ্টা', 6), ('এর', 5), ('জন্যে', 1), ('দুঃখিত', 9), ('করছিলাম।', 5), ('আছে', 56), ('আমাকে', 53), ('কিসের', 3), ('ডাকছিলে', 1), ('ওহ', 14), ('শুধু', 15), ('চেয়েছিলাম', 4), ('আগামীকাল', 6), ('আড্ডা', 3), ('দিতে', 8), ('কিনা।', 2), ('নিশ্চিত', 17), ('চেয়েছিলেন', 5), ('হয়তো', 11), ('সিনেমা', 31), ('বা', 7), ('চল', 3), ('কাল', 1), ('দেখা', 16), ('আছেন', 3), ('এলিস', 2), ('বলা', 4), ('ফোন', 9), ('রিসিভ', 1), ('করনি', 3), ('কাজ', 12), ('ছিল।', 7), ('সব', 10), ('কলের', 1), ('ছিল', 47), ('একটা', 16), ('দেখার', 3), ('ভাবছিলাম।', 1), ('তখন', 2), ('পাওয়া', 2), ('যায়', 2), ('তার', 25), ('বলছেন।', 3), ('একশ', 2), ('বার', 9), ('ব্যস্ত', 8), ('ক্ষমা', 1), ('প্রার্থনা', 1), ('দরকার', 5), ('চাও', 8), ('কোথাও', 1), ('সম্পর্কে', 14), ('শোনাচ্ছে।', 1), ('নতুন', 20), ('মেয়ে', 2), ('দেখেছেন', 6), ('নেই।', 5), ('সুন্দর।', 3), ('কাছে', 8), ('বর্ণনা', 1), ('দাও।', 1), ('লম্বা', 3), ('আচ্ছা', 13), ('কত', 12), ('প্রায়', 12), ('পাঁচ', 4), ('ফুট', 1), ('সমান।', 1), ('যদিও', 1), ('হালকা', 2), ('বাদামী', 3), ('চোখ', 3), ('মেয়ের', 2), ('তাকে', 21), ('চারপাশে', 1), ('এসেছে', 1), ('দেখেছ', 1), ('এখনো', 9), ('দেখিনি।', 1), ('বলুন', 6), ('কেমন।', 1), ('ছোট', 2), ('ধরনের', 19), ('উচ্চতা', 1), ('সম্ভবত', 5), ('ফুট।', 2), ('বলুন।', 2), ('প্রথম', 4), ('জিনিসটি', 1), ('লক্ষ্য', 1), ('করেছি', 9), ('চোখ।', 1), ('ধাক্কা', 1), ('খেয়েছি।', 2), ('বলছেন', 3), ('করেছেন', 4), ('সুন্দরী', 1), ('মেয়েদের', 1), ('একজন।', 1), ('ছোট।', 1), ('বলবেন', 1), ('বলব', 5), ('মাত্র', 4), ('মুখের', 1), ('বৈশিষ্ট্য', 1), ('কার', 1), ('গতকাল', 3), ('ভুল', 4), ('পেট', 3), ('করছ', 4), ('এখনও', 7), ('যাতে', 2), ('ইতিমধ্যে', 4), ('ওষুধ', 1), ('মিস', 8), ('অসুস্থ', 9), ('ছিলেন', 1), ('ব্যাথা', 2), ('আরো', 3), ('হয়েছে', 10), ('নীচে', 3), ('করছি।', 8), ('পেটের', 2), ('নিয়েছিলাম।', 2), ('যাওনি', 1), ('বাড়িতে', 4), ('করছিলাম', 2), ('বিরক্ত', 3), ('করছিল।', 1), ('একটুও', 1), ('একটু', 2), ('দোকানে', 5), ('যাচ্ছি', 7), ('পেপ্টো', 1), ('বিসমল', 1), ('শুনেছেন', 3), ('চাকরিতে', 1), ('প্রমোশন', 1), ('পেয়েছি।', 6), ('সিরিয়াসলি', 2), ('উত্তেজিত।', 2), ('অভিনন্দন।', 2), ('সুখী', 2), ('প্রাপ্য', 1), ('কর', 3), ('সুখবর', 1), ('শুনেছ', 3), ('বলোনি।', 1), ('সপ্তাহের', 1), ('শুরুতে', 1), ('কর্মক্ষেত্রে', 1), ('পদোন্নতি', 1), ('সঠিক', 6), ('এটাই', 2), ('খুশি', 7), ('প্রচারের', 2), ('উত্তেজিত', 1), ('সিরিয়াস', 4), ('যোগ্য।', 1), ('বলিনি', 2), ('শুনিনি', 4), ('বস', 1), ('পদোন্নতির', 1), ('প্রস্তাব', 1), ('দিয়েছিলেন', 1), ('দারুণ', 3), ('অভিনন্দন', 1), ('ওটার', 2), ('তারিফ', 2), ('ধারণা', 6), ('খুশি।', 1), ('লাগছে।', 5), ('পোশাকটি', 2), ('অন্য', 7), ('পেয়েছেন', 4), ('ম্যাসির', 2), ('কাছ', 4), ('থেকে', 15), ('সত্তিই', 1), ('আবার', 4), ('তোমাকেও', 2), ('জুতা', 5), ('তারা', 41), ('তারকা', 1), ('চক', 1), ('টেলর', 1), ('সেগুলি', 1), ('তাদের', 11), ('খরচ', 2), ('চল্লিশ', 1), ('ডলার', 2), ('যা', 10), ('পরেছেন', 1), ('একেবারেই', 1), ('কয়েকদিন', 1), ('কিনেছি।', 3), ('দেখাচ্ছে।', 1), ('কোথা', 1), ('কিনেছেন', 1), ('সান্তা', 1), ('অনিতা', 1), ('মলে', 1), ('সেই', 8), ('পোশাক', 2), ('চল্লিশের', 1), ('পোশাক।', 1), ('দোকান', 1), ('গিয়েছিলাম', 3), ('বাছাই', 1), ('আজকেও', 1), ('খুঁজে', 5), ('পেয়েছি', 3), ('দেখাচ্ছে', 1), ('অবসর', 1), ('সময়ে', 1), ('আঁকা', 6), ('পেইন্টিং', 1), ('হ্যা', 1), ('কখন', 7), ('শিখলেন', 1), ('ফিরে', 1), ('শিখেছি।', 2), ('আর্ট', 2), ('ক্লাস', 9), ('নিয়েছেন', 2), ('করতাম।', 1), ('পাচ্ছি', 3), ('প্রতিভাবান।', 2), ('এমন', 9), ('প্রতিভা', 1), ('থাকত।', 1), ('জিনিস', 6), ('জানতাম', 6), ('কীভাবে', 3), ('আঁকতে', 5), ('জানেন।', 1), ('একেক', 1), ('সময়', 9), ('একে', 6), ('কতদিন', 1), ('উচ্চ', 1), ('বিদ্যালয়ে', 1), ('ধরণের', 2), ('নিয়েছিলেন', 1), ('প্রিয়', 8), ('প্রতিভাবান', 2), ('হতাম।', 2), ('শখ', 1), ('থাকে', 4), ('আঁকতাম', 1), ('আঁকতাম।', 1), ('প্রায়ই', 1), ('শেখানো', 1), ('হয়েছিল', 6), ('শিল্প', 1), ('মুভিটি', 4), ('অসাধারণ।', 1), ('সিনেমা।', 2), ('সেটা', 6), ('সিনেমাটি', 2), ('যেদিন', 3), ('প্রেক্ষাগৃহে', 1), ('বের', 6), ('সেদিন', 1), ('দেখেছিলাম।', 1), ('পুরো', 4), ('জুড়ে', 3), ('হাসলেন', 1), ('করেছিলাম', 2), ('চোখে', 1), ('জল', 1), ('এনেছিল।', 1), ('আমারও', 3), ('ডিভিডিতে', 1), ('চান।', 1), ('সুপারব্যাড।', 1), ('সত্যি', 9), ('সিনেমাগুলোর', 1), ('মধ্যে', 6), ('একটি।', 1), ('মুভি', 1), ('হাস্যকর', 2), ('ভাবিনি', 1), ('দেখেছেন।', 2), ('গিয়েছিলাম।', 4), ('হাসছিলাম।', 1), ('হাসতে', 1), ('পারলাম', 1), ('এসে', 1), ('প্রতিটি', 2), ('সিনেমার', 1), ('কোনটি', 2), ('সুপারব্যাড', 3), ('সর্বকালের', 2), ('সেরা', 5), ('সুপার', 1), ('মিথ্যা', 1), ('দেখেছি।', 2), ('সেটি', 1), ('লাইনে', 1), ('থাকা', 5), ('হাসি', 2), ('আটকাতে', 1), ('পারিনি।', 5), ('হিস্ট্রিকভাবে', 1), ('হাসছিলাম', 1), ('পেশী', 1), ('যেভাবে', 1), ('সঙ্গীত', 4), ('শুনতে', 7), ('বিভিন্ন', 6), ('গান', 4), ('যেমন', 2), ('উদাহরণস্বরূপ', 1), ('রক', 3), ('আরএন্ডবি', 3), ('ব্যবহার', 5), ('করা', 16), ('যন্ত্র', 3), ('কারণ।', 2), ('শুনি।', 1), ('ঘরানা', 1), ('উভয়ই', 1), ('আগ্রহী', 1), ('শুক্রবার', 14), ('বাস্কেটবল', 3), ('খেলায়', 3), ('গিয়েছিলেন', 1), ('খেলা', 10), ('কে', 4), ('জিতেছে', 2), ('করেছে।', 1), ('খেলেছে।', 1), ('চেয়েছিলাম।', 2), ('উচিত।', 1), ('সত্যই', 1), ('উত্তেজনাকর', 1), ('স্কোর', 4), ('10198।', 2), ('ঘনিষ্ঠ', 4), ('অংশ', 1), ('পেরেছিলেন', 1), ('অক্ষম', 1), ('তীব্র', 1), ('জিতে', 1), ('শেষ', 4), ('দল', 3), ('বিজয়ী', 1), ('মুক্ত', 1), ('প্রকার', 1), ('পাগল', 1), ('যাইনি।', 1), ('শেষে', 1), ('10198', 1), ('জিতেছে।', 2), ('কারণে', 1), ('চাইছিলাম', 1), ('খুবই', 1), ('কঠিন', 1), ('খেলেছে', 1), ('চূড়ান্ত', 1), ('দলটি', 1), ('তিনটি', 1), ('পয়েন্টে', 1), ('হেরেছে', 1), ('অবশ্যই', 10), ('সপ্তাহে', 5), ('বন্ধুর', 5), ('যাচ্ছি।', 4), ('যাচ্ছেন', 6), ('ভাবতে', 4), ('কিছুই', 7), ('সময়।', 1), ('নির্দিষ্ট', 1), ('আমন্ত্রণ', 8), ('জানানোর', 1), ('পাস', 1), ('করব।', 1), ('হিসাবে', 1), ('নই।', 2), ('বন্ধু', 9), ('নজর', 1), ('কেড়েছে', 1), ('কোনো', 6), ('মাথায়', 1), ('আসে', 3), ('সিদ্ধান্ত', 1), ('কিনা', 2), ('গিয়েছিলে', 6), ('যাইনি', 1), ('sucks', 1), ('ইংরেজি', 3), ('অ্যাসাইনমেন্ট', 3), ('স্বাগতম।', 1), ('পড়েছেন', 1), ('পড়েছি।', 1), ('পারিনি', 2), ('শুনে', 1), ('প্রশংসা', 1), ('অসুবিধা', 1), ('অনুগ্রহ', 1), ('ফিরিয়ে', 1), ('দেব।', 1), ('গেছো', 1), ('সাংঘাতিক', 1), ('হব।', 1), ('মত।', 1), ('উল্লেখ', 1), ('করবেন', 2), ('টা', 1), ('হলো', 6), ('চাচাতো', 1), ('ভাই', 1), ('প্রসবের', 1), ('গিয়েছিল', 1), ('গত', 2), ('বাচ্চা', 1), ('হয়েছে।', 1), ('করেছে', 5), ('কেউ', 9), ('বলেনি', 2), ('ভেবেছিলাম', 6), ('বলেছে।', 1), ('বাচ্চার', 1), ('ওজন', 2), ('8', 3), ('পাউন্ড', 3), ('6', 2), ('আউন্স।', 2), ('ঈশ্বর', 3), ('শিশুর', 1), ('জানাবো।', 1), ('ডেব্রাহ', 1), ('ইতিমধ্যেই', 1), ('সন্তানের', 2), ('জন্ম', 2), ('দিয়েছে।', 4), ('জানতে', 3), ('শিশুটির', 1), ('৮', 1), ('৬', 1), ('যাবে', 5), ('সুসংবাদ', 1), ('শোনা', 1), ('ডেব্রা', 1), ('শুনেছেন।', 1), ('হয়নি।', 1), ('তিনি', 14), ('চতুর', 1), ('আউন্স', 1), ('বাহ', 1), ('উত্তেজনাপূর্ণ।', 1), ('গিয়ে', 1), ('শিশুটিকে', 1), ('চাইনি', 1), ('করিনি।', 3), ('দুঃখজনক', 1), ('গেছেন', 4), ('সুইচ।', 1), ('যান।', 1), ('নিজে', 3), ('যাইহোক', 2), ('যাওয়ার', 3), ('এসেছ', 1), ('সর্বদা', 1), ('বিষয়ের', 2), ('প্রশ্নের', 1), ('উত্তর', 2), ('বাধা', 1), ('দিচ্ছে', 1), ('একা', 1), ('যেতেও', 1), ('কষ্ট', 1), ('করছো', 3), ('তবে', 3), ('এলোমেলো', 2), ('পরিবর্তন।', 1), ('ধরতে', 1), ('যান', 4), ('আসার', 2), ('করতাম', 3), ('আসতাম', 1), ('করছিলে', 2), ('যাই', 4), ('হোক', 2), ('এসেছেন।', 3), ('বাধ্য', 1), ('কঠোর', 2), ('পরিশ্রম', 1), ('মূলত', 1), ('এসেছেন', 1), ('পাগলের', 1), ('বুঝতে', 4), ('পারছি', 4), ('এলে', 1), ('আরে', 2), ('জেসিকার', 3), ('পার্টির', 1), ('আমন্ত্রণের', 3), ('দিয়েছে', 3), ('জানাবে।', 2), ('মজা', 7), ('অনুষ্ঠান', 1), ('টায়', 2), ('কতজনকে', 1), ('জানিয়েছে', 2), ('নই', 6), ('এতগুলো', 1), ('শনিবার', 4), ('পার্টি', 17), ('সকালে', 1), ('অনুমান', 3), ('পার্টিতে', 4), ('আটটায়', 1), ('হওয়ার', 3), ('কথা।', 1), ('কতগুলো', 1), ('অনেকগুলি', 1), ('বলেছে', 3), ('আগেই', 1), ('পেয়েছিলাম।', 1), ('আমন্ত্রণটি', 1), ('দেবে।', 1), ('এমনকি', 2), ('বছরের', 1), ('চলেছে৷', 1), ('লোড', 2), ('800', 1), ('pm', 1), ('পত্র', 1), ('হে', 1), ('নিক্ষেপ', 3), ('করেননি', 1), ('বলেনি।', 1), ('রাত', 2), ('৮০০', 1), ('থাকব', 3), ('ধারণাই', 1), ('এ', 3), ('বিষয়ে', 2), ('পারবে', 1), ('৮টায়', 2), ('যাবো', 1), ('এসব', 3), ('পারেন', 6), ('যাব', 1), ('আসলেই', 2), ('কিচ্ছু', 1), ('আসবে', 3), ('ঘৃণা', 5), ('আগামী', 2), ('আসছ', 1), ('চাইলাম', 1), ('আসতে', 3), ('পরিবারের', 2), ('ডিনারে', 2), ('আসো', 1), ('বুঝি', 1), ('ধরে', 2), ('রাখব', 1), ('নয়', 11), ('দুঃখিত।', 1), ('আর', 5), ('পরিবার', 1), ('খাবার', 7), ('খেতে', 5), ('ওয়েল', 1), ('শান্ত', 2), ('পারবেন', 1), ('ব্যস্ত।', 1), ('সঙ্গে', 7), ('ডিনার', 3), ('পরবর্তী', 1), ('আসব', 1), ('সরিয়ে', 1), ('দেওয়ার', 1), ('নাক', 7), ('ডাকা', 2), ('ব্যবসা', 2), ('কথোপকথন', 1), ('দ্রুত', 2), ('বন্ধ', 6), ('বলতাম', 1), ('পাশাপাশি', 1), ('নাকওয়ালা', 1), ('ভদ্র', 4), ('ক্ষমাপ্রার্থী', 1), ('আপনাদের', 3), ('রাশ', 1), ('নামতে', 1), ('প্রস্তুত', 1), ('বিষয়', 2), ('যত্ন', 4), ('নেওয়া', 1), ('দয়া', 1), ('প্রশ্ন', 2), ('নিয়ে', 12), ('চিন্তা', 3), ('বলার', 1), ('মানে', 5), ('বলতেও', 3), ('দেওয়া', 3), ('পাবো', 1), ('করবো', 1), ('পেয়েছিলাম', 1), ('কিছুতে', 1), ('চলো', 1), ('সেট', 1), ('আপ', 2), ('থাকো', 1), ('প্যাসাডেনায়', 1), ('থাকি', 2), ('প্যাসাডেনা', 3), ('ক্যালিফোর্নিয়ায়', 2), ('দক্ষিণ', 1), ('ক্যালিফোর্নিয়া', 1), ('শহর', 4), ('এতে', 5), ('140000', 1), ('লোক', 2), ('রয়েছে', 3), ('লস', 1), ('অ্যাঞ্জেলস', 1), ('গাড়ি', 4), ('হোন্ডা', 1), ('2003', 1), ('সালে', 1), ('পুরনো', 1), ('এটা।', 1), ('দেখায়', 1), ('এটার', 2), ('নেন', 1), ('হ্যাঁ।', 2), ('একবার', 4), ('ধুয়ে', 3), ('ফেলি', 3), ('তেল', 1), ('বান্ধবী', 2), ('বান্ধবীও', 1), ('যথেষ্ট', 3), ('ধনী', 1), ('মেয়েরা', 2), ('টাকা', 11), ('দিয়ে', 2), ('ছেলেদের', 3), ('কুকুরটিকে', 1), ('হাঁটতে', 1), ('কুকুর', 2), ('পুডল', 3), ('পুডলস', 1), ('বাকল', 1), ('ঘেউ', 2), ('চুপ', 1), ('পেলেন', 1), ('মায়ের', 2), ('5', 1), ('ধার', 2), ('প্রয়োজন', 4), ('দুপুরের', 2), ('কিনতে', 2), ('মানিব্যাগে', 1), ('মানিব্যাগ', 1), ('খালি', 2), ('ডলারও', 1), ('ভেঙে', 3), ('পড়া', 1), ('শুধুমাত্র', 2), ('অল্প', 1), ('সবসময়ই', 1), ('গেলে', 1), ('বন্ধুরা', 1), ('দেবে', 1), ('আইডিয়া', 1), ('কিছুক্ষণ', 1), ('মাসও', 1), ('শেষবার', 1), ('ডুবে', 1), ('করিনি', 1), ('লাইফগার্ড', 1), ('পানিতে', 1), ('ডুব', 1), ('দিল', 1), ('সাঁতার', 1), ('কাটছিল', 1), ('ঘুরে', 1), ('দাঁড়ালেন', 1), ('ঠিকই', 1), ('বলেছেন', 1), ('বিবাহিত', 1), ('তালাকপ্রাপ্ত', 2), ('বিবাহবিচ্ছেদ', 3), ('দুই', 1), ('বছর', 1), ('ডিভোর্স', 1), ('স্ত্রী', 1), ('ছেড়ে', 2), ('চলে', 3), ('গেছে', 2), ('গেল', 1), ('বলেন', 1), ('ভালোবাসেন', 1), ('দারুন', 1), ('ভালোবাসেনি', 1), ('টিভিতে', 2), ('আকর্ষণীয়', 2), ('গেম', 1), ('শো', 4), ('চুক্তি', 2), ('বলো', 1), ('এখানে', 4), ('একমত।', 1), ('পাসাদেনা', 1), ('সারা', 2), ('বছরই', 1), ('গোলাপ', 1), ('প্যারেড', 1), ('ঘর', 2), ('রেস্তোরাঁ', 1), ('পাহাড়ের', 1), ('বন্ধুত্বপূর্ণ', 1), ('গদি', 1), ('ব্যাপার', 3), ('আরামদায়ক', 1), ('টস', 1), ('ঘুরতাম', 1), ('কফি', 3), ('পান', 4), ('বাহুতে', 1), ('চিহ্নগুলো', 1), ('দেখুন', 4), ('কামড়', 2), ('দেয়', 2), ('বিড়াল', 4), ('কামড়ায়', 1), ('গদিতে', 1), ('বেডবাগগুলি', 1), ('ল্যাপটপ', 2), ('ধীর', 2), ('কিনুন', 1), ('থাকলে', 2), ('এটাকে', 1), ('কম্পিউটারের', 1), ('এটির', 1), ('জানালার', 1), ('ফেলে', 1), ('খাবারের', 5), ('পিজা', 2), ('পিজ্জা', 2), ('খেয়েছিলেন', 1), ('সবাই', 2), ('পিৎজা', 1), ('বৈচিত্র্য', 1), ('সারাক্ষণ', 1), ('পনির', 1), ('পিজ্জার', 2), ('পরিবর্তে', 1), ('পেপারনি', 1), ('মতো', 5), ('সঞ্চয়', 5), ('বাড়ি', 3), ('ব্যয়বহুল', 1), ('এজন্য', 1), ('অর্থ', 1), ('ডাউন', 1), ('পেমেন্টের', 1), ('30000', 1), ('ত্রিশ', 1), ('হাজার', 1), ('চিরকাল', 3), ('লাগবে', 1), ('পয়সা', 2), ('সংরক্ষণ', 2), ('পাচ্ছেন', 1), ('চলতে', 1), ('গভীর', 2), ('মাইল', 1), ('মাছ', 4), ('উপরে', 1), ('উপর', 1), ('প্রেমিক', 1), ('সতর্ক', 1), ('করেছিলাম।', 1), ('শোনেনি', 1), ('জন্মদিনের', 1), ('1000', 1), ('দিয়েছি।', 1), ('নিজের', 1), ('ব্যয়', 1), ('বলেছিলাম', 1), ('পেরেছি', 1), ('প্রেমিককে', 1), ('দিয়েছেন', 1), ('করল', 1), ('বলেছিলেন', 1), ('আংটি', 1), ('কিনে', 1), ('দেবেন', 1), ('লাস', 1), ('ভেগাসে', 1), ('গিয়েছিলেন।', 1), ('জুয়া', 1), ('হারান', 1), ('প্রাণীরা', 1), ('অপরের', 2), ('প্রাণীদের', 1), ('চেহারা', 3), ('হা', 1), ('প্রাণী', 1), ('নোংরা', 3), ('সাহায্য', 3), ('পারো', 1), ('এটিকে', 1), ('বাথরুম', 1), ('করুন', 4), ('সহজ', 2), ('সিঙ্ক', 1), ('টব', 1), ('কাউন্টার', 1), ('টয়লেট', 1), ('টিভি', 2), ('দেখছেন', 1), ('চাচ্ছ', 3), ('জীবন', 2), ('মুখ', 1), ('খোলা', 2), ('রেখে', 1), ('বসে', 2), ('করেছ', 2), ('ভলিউম', 1), ('চালু', 2), ('বোঝাতে', 1), ('দাদীকে', 1), ('চিঠি', 2), ('লিখেছিলেন', 1), ('বললে', 3), ('বললাম', 2), ('স্কুলটা', 1), ('চিঠিটা', 1), ('খামে', 3), ('রেখেছিলেন', 2), ('খাম', 2), ('সিল', 1), ('স্ট্যাম্প', 4), ('লাগিয়েছিলেন', 1), ('পাইনি', 1), ('রান্নাঘরের', 1), ('ড্রয়ারে', 1), ('রাখা', 1), ('মেল', 1), ('হাঁচিছো', 1), ('ঘুমাই', 1), ('বিছানায়', 2), ('রেকর্ড', 1), ('টেপ', 1), ('রেকর্ডার', 1), ('পুনরায়', 1), ('চালানো', 1), ('আসলটা', 1), ('দেখছি', 2), ('মিনিটের', 2), ('ঘুমিয়ে', 1), ('পড়বেন', 1), ('বিজ্ঞাপন', 1), ('থাকায়', 1), ('হাহাকার', 1), ('রবিবার', 4), ('ভুলে', 1), ('গেছি', 2), ('গির্জায়', 3), ('কোট', 1), ('টাই', 1), ('ও', 2), ('অন্যদের', 1), ('প্রতি', 2), ('শ্রদ্ধা', 1), ('প্রদর্শন', 1), ('আনন্দিত', 1), ('শুনেননি', 1), ('বিড়ালকে', 1), ('খাওয়াতেন', 1), ('মেউইং', 1), ('করছে।', 1), ('ক্ষুধার্ত', 2), ('খাওয়াবো', 1), ('বাড়ির', 2), ('কিছুর', 2), ('নেয়', 1), ('বিড়ালরা', 1), ('এমনই', 1), ('ভাবছে', 1), ('নিজেরাই', 1), ('পরিত্রাণ', 1), ('শেভ', 3), ('নিজেকে', 2), ('কেটে', 2), ('ব্লেড', 3), ('পুরানো', 1), ('কাটা', 2), ('বৈদ্যুতিক', 1), ('শেভার', 1), ('শব্দ', 2), ('দাড়ি', 1), ('বাড়ান', 1), ('অন্যান্য', 1), ('দাড়িতে', 1), ('লেগে', 1), ('মাফ', 1), ('কোরো', 1), ('কাগজ', 1), ('পড়ছেন', 1), ('জিজ্ঞেস', 1), ('করলাম', 1), ('কাগজটা', 1), ('পাশেই', 2), ('তুলে', 2), ('নেবে', 1), ('জানি।', 1), ('অভদ্র', 2), ('বিশ্বের', 1), ('মা', 4), ('কুকুরছানা', 5), ('বিনামূল্যে', 1), ('শট', 4), ('খায়।', 1), ('দাম', 4), ('প্লেট', 1), ('দেব', 3), ('বিড়ালছানা', 1), ('তাকান', 1), ('কতজন', 2), ('আট', 1), ('রাখতে', 1), ('একজনকে', 1), ('ভালোবাসতাম', 1), ('কোনটা', 1), ('কালো', 2), ('বাবামা', 3), ('ঈশ্বরে', 1), ('স্বর্গে', 2), ('নিশ্চিতভাবে', 1), ('জানে', 2), ('মৃত্যুর', 1), ('ঈশ্বরের', 1), ('হব', 1), ('এমনটাই', 1), ('অনেকে', 1), ('হই', 1), ('জাহান্নামে', 2), ('অসুখী', 1), ('স্বামী', 1), ('মারা', 2), ('কবে', 1), ('গেলো', 1), ('কয়েক', 2), ('মাস', 1), ('প্রতিদিনই', 1), ('বলি', 1), ('মোবাইল', 2), ('ফোনে', 1), ('কবর', 1), ('দিয়েছি', 1), ('ত্রয়োদশ', 2), ('দুর্ভাগ্যজনক', 1), ('বাড়িতেই', 1), ('থাকার', 1), ('সেটাই', 1), ('তেরো', 1), ('তারিখ', 1), ('হোটেলে', 1), ('অবস্থান', 2), ('তলায়', 1), ('চুরি', 1), ('ভালোবাসো', 2), ('৷', 2), ('প্রমাণ', 2), ('ওটা', 2), ('রেস্টুরেন্টে', 1), ('ম্যাকডোনাল্ডসের', 1), ('রেস্টুরেন্টের', 1), ('ঝামেলা', 1), ('বাবা', 3), ('আহত', 1), ('রাগান্বিত', 1), ('বান্ধবীকে', 2), ('বাদ', 1), ('করতেন', 1), ('আসেন', 1), ('দাদির', 1), ('অ্যাপার্টমেন্টের', 1), ('বৃদ্ধ', 2), ('মানুষের', 1), ('হন', 1), ('ফলের', 3), ('পাকা', 2), ('বৃদ্ধরা', 1), ('মিতব্যয়ী', 2), ('দোকানের', 1), ('পায়', 1), ('স্ট্যাম্পের', 2), ('বেড়ে', 1), ('জন্মের', 1), ('42', 1), ('সেন্ট', 2), ('মে', 1), ('মাসে', 1), ('৪৪', 1), ('কখনো', 2), ('মেইলে', 1), ('হারিয়েছেন', 1), ('টাকার', 1), ('শার্ট', 2), ('বোতাম', 5), ('এলো', 1), ('প্রথমে', 2), ('বোতামটি', 1), ('হারালে', 1), ('কঠিন।', 1), ('প্যান্ট', 2), ('কাফের', 1), ('দিকে', 1), ('তাকাচ্ছেন', 1), ('কাফগুলিতে', 1), ('দাও', 1), ('অতিরিক্ত', 2), ('আছেন।', 1), ('বাথরুমে', 2), ('চকোলেট', 1), ('খান', 2), ('আয়নায়', 1), ('তাকিয়ে', 1), ('মোটা', 1), ('লন্ড্রি', 1), ('ধুয়েছ', 1), ('চাদর', 2), ('তোয়ালে', 2), ('ফেললাম', 2), ('বালিশের', 1), ('কেস', 1), ('বালিশ', 1), ('ড্রায়ারে', 2), ('শুকিয়ে', 1), ('সবকিছু', 1), ('শুকিয়েছি', 1), ('করলেন', 1), ('গুটিয়ে', 1), ('নিলাম', 1), ('রেডিও', 2), ('শুনছেন', 1), ('দিনরাত', 1), ('শুনি', 1), ('শুনছ', 1), ('বেশিরভাগ', 1), ('টক', 1), ('বর্তমান', 1), ('ঘটনা', 1), ('ট্যাক্স', 2), ('কমাতে', 2), ('চায়', 1), ('ফ্রিজে', 3), ('খুঁজছি।', 1), ('খাওয়ার', 1), ('বাজারে', 2), ('প্রচুর', 1), ('কমলা', 1), ('আপেল', 1), ('কিনেছি', 1), ('ফল', 2), ('সুস্বাদু', 1), ('স্যান্ডউইচ', 3), ('তৈরি', 1), ('হ্যাম', 1), ('রুটি', 1), ('ক্যাবিনেটে', 1), ('সরিষা', 1), ('আলু', 1), ('চিপস', 1), ('স্নান', 1), ('যুবতী', 1), ('গোসল', 1), ('পাই', 2), ('পেতাম', 1), ('সুগন্ধি', 1), ('কম্পিউটারে', 1), ('হল', 1), ('পর্দা', 1), ('আগেও', 1), ('ঘটেছে', 1), ('হার্ড', 3), ('ড্রাইভ', 4), ('বিধ্বস্ত', 2), ('এইচপি', 2), ('সমস্ত', 1), ('ফাইল', 2), ('হারাবেন', 1), ('ব্যাক', 1), ('কম্পিউটার', 1), ('বলল', 1), ('85', 1), ('প্লাস', 1), ('ইনস্টলেশন', 1), ('অপসারণ', 1), ('প্রতিস্থাপন', 1), ('স্ক্রু', 1), ('কাউকে', 1), ('60', 1), ('প্রদান', 1), ('ইমেইল', 1), ('ঠিকানা', 2), ('ব্লুডগ123', 1), ('bluedog123', 2), ('অসম্পূর্ণ', 1), ('মেইলিং', 1), ('456', 1), ('চেরি', 1), ('সিএ', 1), ('91170', 1), ('রাস্তা।', 1), ('রাজ্য', 1), ('জিপ', 1), ('কোড', 1), ('ঘুম', 1), ('ফোনটি', 1), ('আনপ্লাগ', 1), ('ঘন্টার', 1), ('জাগাই', 1), ('জেগে', 2), ('ঘুমাতে', 1), ('600', 1), ('ততক্ষণে', 1), ('জাগিয়ে', 1), ('তুলবে', 1), ('রান্নার', 1), ('পাব', 1), ('স্বপ্নও', 1), ('স্বপ্ন', 1), ('দেখব।', 1), ('ক্লান্ত', 1), ('অন্ত্যেষ্টিক্রিয়া', 1), ('ছেলে', 1), ('বাবাকে', 1), ('এটাও', 1), ('দীর্ঘ', 2), ('45', 1), ('গেছে।', 1), ('ভাষণ', 1), ('জানাজায়', 1), ('পরিবারই', 1), ('থাকবে', 1), ('ইয়েস', 1), ('আওয়াজ', 1), ('ফুঁকতে', 1), ('ফোনের', 1), ('ফুঁ', 1), ('শুনেছো', 1), ('শুনেছি।', 1), ('বিমান', 1), ('জোরে', 1), ('ফুঁকব', 1), ('পাবেন', 1), ('ঘরে', 1), ('হাতি', 1), ('বধির', 1), ('বন্ধু।', 1), ('পঁচিশের', 1), ('ভাবি', 1), ('হুম', 1), ('একজন', 1), ('কয়েকজন', 1), ('নিঃসঙ্গ', 1), ('বন্ধুদের', 1), ('ভাগ', 1), ('প্রতারণা', 2), ('পুরুষরা', 1), ('পুরুষ', 1), ('বই।', 1), ('ধরবে', 1), ('প্রতারক', 1), ('মহিলাকে', 1), ('পায়ের', 1), ('আঙ্গুল', 1), ('ফেলব', 1), ('ঝাঁকুনি', 1), ('একমত', 1), ('ঝাঁকুনিতে', 1), ('পূর্ণ', 1), ('সবখানেই', 1), ('চিৎকার', 3), ('ফর্মটা', 1), ('দেখবেন', 1)])\n",
            "1477\n"
          ]
        }
      ],
      "source": [
        "print(ques_tokenizer.word_counts)\n",
        "# total unique words in question\n",
        "print(len(ques_tokenizer.word_counts))"
      ]
    },
    {
      "cell_type": "code",
      "execution_count": null,
      "metadata": {
        "colab": {
          "base_uri": "https://localhost:8080/"
        },
        "id": "P3In5Tk_9XrK",
        "outputId": "492c0815-0675-4ac6-d22c-87a801ad06da"
      },
      "outputs": [
        {
          "output_type": "execute_result",
          "data": {
            "text/plain": [
              "1478"
            ]
          },
          "metadata": {},
          "execution_count": 134
        }
      ],
      "source": [
        "QUES_VOCAB_SIZE = len(ques_tokenizer.word_counts) + 1\n",
        "QUES_VOCAB_SIZE"
      ]
    },
    {
      "cell_type": "code",
      "execution_count": null,
      "metadata": {
        "colab": {
          "base_uri": "https://localhost:8080/"
        },
        "id": "5rWS_QzK9buS",
        "outputId": "6035c31f-602f-413d-ea41-1af099cfa290"
      },
      "outputs": [
        {
          "output_type": "stream",
          "name": "stdout",
          "text": [
            "{1: 'শুরু', 2: 'শেষ', 3: 'আমি', 4: 'কি', 5: 'আপনি', 6: 'এটা', 7: 'না', 8: 'আমার', 9: 'তুমি', 10: 'আপনার'}\n"
          ]
        }
      ],
      "source": [
        "ans_index_word= ans_tokenizer.index_word\n",
        "print({key: ans_index_word[key] for key in list(ans_index_word.keys())[:10]})"
      ]
    },
    {
      "cell_type": "code",
      "execution_count": null,
      "metadata": {
        "colab": {
          "base_uri": "https://localhost:8080/"
        },
        "id": "FCxHDZZX9gYJ",
        "outputId": "0fea7fd7-bde3-4028-9369-406b21ab8bd2"
      },
      "outputs": [
        {
          "output_type": "stream",
          "name": "stdout",
          "text": [
            "{'শুরু': 1, 'শেষ': 2, 'আমি': 3, 'কি': 4, 'আপনি': 5, 'এটা': 6, 'না': 7, 'আমার': 8, 'তুমি': 9, 'আপনার': 10}\n"
          ]
        }
      ],
      "source": [
        "ans_word_index =ans_tokenizer.word_index\n",
        "print({key: ans_word_index[key] for key in list(ans_word_index.keys())[:10]})"
      ]
    },
    {
      "cell_type": "code",
      "execution_count": null,
      "metadata": {
        "colab": {
          "base_uri": "https://localhost:8080/"
        },
        "id": "Yu1XOugp9jkj",
        "outputId": "e2121d7e-d659-43b1-cd6b-14e613b1f898"
      },
      "outputs": [
        {
          "output_type": "stream",
          "name": "stdout",
          "text": [
            "OrderedDict([('শুরু', 1279), ('হাই', 4), ('কেমন', 20), ('চলছে', 3), ('শেষ', 1267), ('আমি', 453), ('অনেক', 33), ('ভালো', 29), ('জিজ্ঞাসা', 4), ('করার', 12), ('জন্য', 36), ('ধন্যবাদ', 19), ('সমস্যা', 9), ('নেই', 17), ('তারপর', 4), ('ছিলে', 2), ('বেশ', 12), ('ভাল', 34), ('ছিলাম', 7), ('তোমার', 34), ('খবর', 9), ('কি', 226), ('ভালোই', 1), ('আছি', 5), ('এখন', 12), ('স্কুলে', 30), ('তুমি', 91), ('যাও', 3), ('হ্যাঁ', 49), ('যাই।', 2), ('সেখানে', 13), ('পছন্দ', 33), ('করো', 4), ('এটা', 169), ('বড়', 10), ('ক্যাম্পাস', 1), ('স্কুলের', 2), ('শুভকামনা।', 1), ('কী', 18), ('অবস্থা', 6), ('ধন্যবাদ।', 3), ('তো', 3), ('ইদানীং', 7), ('আছো', 3), ('আসলে', 6), ('ছিলাম।', 11), ('আপনি', 176), ('আছি।', 1), ('কোন', 30), ('পড়েন', 1), ('বাংলা', 1), ('পড়ছি', 1), ('লাগছে', 3), ('খারাপ', 13), ('না', 126), ('মানুষ', 8), ('আছে।', 7), ('সৌভাগ্য', 1), ('কামনা', 1), ('করছি', 18), ('আজ', 31), ('বোধ', 5), ('করছেন', 11), ('খুব', 31), ('একেবারে', 4), ('আপনাকে', 27), ('আপনার', 74), ('দিনকাল', 1), ('যাচ্ছে', 4), ('সম্প্রতি', 3), ('স্কুল', 5), ('করেছি।', 9), ('কোথায়', 9), ('যাচ্ছ', 4), ('ঢাকায়', 1), ('একটি', 74), ('পড়ি', 1), ('পর্যন্ত', 8), ('লাগলো', 5), ('আমার', 113), ('ভাললাগছে', 1), ('আজকের', 2), ('দিনটি', 2), ('সেইটাই', 1), ('মনে', 60), ('হচ্ছে', 15), ('বৃষ্টি', 23), ('হতে', 16), ('পারে।', 2), ('গ্রীষ্মের', 3), ('মাঝামাঝি', 1), ('হওয়া', 5), ('উচিত', 16), ('নয়।', 4), ('হলে', 12), ('অস্বাভাবিক', 1), ('হবে', 68), ('বিশেষ', 3), ('করে', 23), ('যেহেতু', 1), ('এটি', 59), ('গরমকাল', 1), ('জানি', 16), ('এবং', 39), ('বাইরে', 7), ('গরম', 5), ('ভয়ানক', 2), ('হবে।', 14), ('সত্যিই', 66), ('চাই', 28), ('প্রতিদিন', 3), ('যেন', 1), ('এত', 9), ('হয়', 34), ('আমিওআমি', 1), ('শীতকাল', 3), ('অপেক্ষা', 7), ('করতে', 60), ('পারছিনা', 1), ('না।', 31), ('আমিও', 18), ('শীত', 3), ('করি', 67), ('কিন্তু', 35), ('মাঝে', 4), ('ঠান্ডা', 9), ('লাগে।', 1), ('বরং', 1), ('গরমের', 2), ('চেয়ে', 3), ('বেশি', 8), ('আবহাওয়া', 1), ('ঠিক', 35), ('বলছো', 3), ('পরে', 11), ('মাঝখানে', 2), ('তাপমাত্রা', 1), ('নব্বই', 2), ('ডিগ্রী', 2), ('অবাক', 1), ('হবো', 1), ('আজকে', 1), ('একদম', 1), ('বলেছ', 1), ('একদিন', 1), ('হয়ে', 5), ('যাবে।', 1), ('অনুভব', 8), ('শীঘ্রই', 6), ('আসুক।', 1), ('উপভোগ', 11), ('কখনও', 6), ('যায়।', 2), ('বলতে', 15), ('চাচ্ছেন', 3), ('চাই।', 12), ('আরও', 4), ('সুন্দর', 24), ('হোক।', 1), ('ঐটা', 2), ('সত্য', 4), ('আশা', 14), ('এখনই', 1), ('অদ্ভুত', 2), ('যদি', 13), ('আবহাওয়ায়', 1), ('হয়।', 5), ('এই', 43), ('মুহূর্তে', 2), ('অর্থহীন', 1), ('কিছুটা', 1), ('পারি', 11), ('মহান', 7), ('পেতে', 3), ('দিন', 8), ('পারে', 2), ('বলে', 19), ('হচ্ছে।', 1), ('যে', 53), ('করে।', 2), ('কেন', 49), ('ভালোবাসি', 5), ('কিভাবে', 14), ('বাতাস', 3), ('পরিষ্কার', 8), ('বৃষ্টির', 8), ('সবসময়', 6), ('তাই', 24), ('তাজা', 1), ('গন্ধ', 16), ('পর', 6), ('রাতের', 7), ('করি।', 19), ('কারণ', 17), ('তারাকে', 1), ('পুরোপুরি', 1), ('দেখতে', 42), ('পারেন।', 1), ('আকাশ', 2), ('কতটা', 3), ('তা', 17), ('একই', 6), ('ভাবে', 1), ('যখন', 4), ('তারাগুলোকে', 1), ('কাছাকাছি', 2), ('দেখায়।', 2), ('করেন', 19), ('বুঝেছি', 1), ('তোলে', 1), ('রাতে', 2), ('সবচেয়ে', 4), ('ভালোবাসি।', 2), ('তারাগুলিকে', 1), ('স্পষ্টভাবে', 1), ('পাবেন।', 1), ('সপ্তাহান্তে', 14), ('সৈকতে', 6), ('যেতে', 40), ('মজার', 16), ('মত', 10), ('শোনাচ্ছে', 8), ('আবহাওয়া', 15), ('শুনেছি', 4), ('চলেছে।', 1), ('নিখুঁত', 2), ('সৈকত', 2), ('বিশ্বাস', 4), ('শীতল', 1), ('জানেন', 8), ('ক্যালিফোর্নিয়ার', 3), ('অনির্দেশ্য।', 1), ('এক', 13), ('মিনিট', 2), ('পরের', 10), ('মিনিটে', 1), ('ঠান্ডা।', 1), ('থাকতে', 4), ('চান', 26), ('এইভাবে', 1), ('আমরা', 15), ('আমাদের', 23), ('কার্যক্রম', 1), ('সময়ের', 2), ('আগে', 14), ('পরিকল্পনা', 6), ('পারি।', 3), ('সমুদ্র', 3), ('ট্রিপ', 2), ('নিতে', 4), ('মজাদার', 1), ('পূর্বাভাস', 1), ('উষ্ণ', 3), ('সৈকতের', 1), ('উপযুক্ত', 1), ('জিনিসগুলিকে', 1), ('নষ্ট', 2), ('করবে', 4), ('খারাপভাবে', 1), ('অপ্রত্যাশিত', 1), ('কখনই', 2), ('ক্রমাগত', 1), ('পরিবর্তিত', 1), ('আবহাওয়ার', 2), ('পরিবর্তন', 5), ('চমৎকার', 9), ('তাহলে', 15), ('কিছু', 47), ('পারতাম।', 1), ('লাগবে।', 1), ('অনুমিত', 1), ('ট্রিপটি', 1), ('থাকবে।', 1), ('এতটাই', 1), ('অনিশ্চিত', 1), ('ঘটবে', 1), ('জানা', 1), ('অসম্ভব।', 1), ('ভিন্ন', 2), ('করব', 16), ('অনির্দেশ্য', 1), ('হ্যালো', 1), ('অ্যালিসের', 1), ('সাথে', 40), ('কথা', 36), ('সে', 37), ('সারাদিন', 2), ('তোমাকে', 25), ('কল', 6), ('চেষ্টা', 6), ('এর', 5), ('জন্যে', 1), ('দুঃখিত', 9), ('করছিলাম।', 5), ('আছে', 56), ('আমাকে', 53), ('কিসের', 3), ('ডাকছিলে', 1), ('ওহ', 14), ('শুধু', 15), ('চেয়েছিলাম', 4), ('আগামীকাল', 6), ('আড্ডা', 3), ('দিতে', 8), ('কিনা।', 2), ('নিশ্চিত', 17), ('চেয়েছিলেন', 5), ('হয়তো', 11), ('সিনেমা', 31), ('বা', 7), ('চল', 3), ('কাল', 1), ('দেখা', 16), ('আছেন', 3), ('এলিস', 2), ('বলা', 4), ('ফোন', 9), ('রিসিভ', 1), ('করনি', 3), ('কাজ', 12), ('ছিল।', 7), ('সব', 10), ('কলের', 1), ('ছিল', 47), ('একটা', 16), ('দেখার', 3), ('ভাবছিলাম।', 1), ('তখন', 2), ('পাওয়া', 2), ('যায়', 2), ('তার', 25), ('বলছেন।', 3), ('একশ', 2), ('বার', 9), ('ব্যস্ত', 8), ('ক্ষমা', 1), ('প্রার্থনা', 1), ('দরকার', 5), ('চাও', 8), ('কোথাও', 1), ('সম্পর্কে', 14), ('শোনাচ্ছে।', 1), ('নতুন', 20), ('মেয়ে', 2), ('দেখেছেন', 6), ('নেই।', 5), ('সুন্দর।', 3), ('কাছে', 8), ('বর্ণনা', 1), ('দাও।', 1), ('লম্বা', 3), ('আচ্ছা', 13), ('কত', 12), ('প্রায়', 12), ('পাঁচ', 4), ('ফুট', 1), ('সমান।', 1), ('যদিও', 1), ('হালকা', 2), ('বাদামী', 3), ('চোখ', 3), ('মেয়ের', 2), ('তাকে', 21), ('চারপাশে', 1), ('এসেছে', 1), ('দেখেছ', 1), ('এখনো', 9), ('দেখিনি।', 1), ('বলুন', 6), ('কেমন।', 1), ('ছোট', 2), ('ধরনের', 19), ('উচ্চতা', 1), ('সম্ভবত', 5), ('ফুট।', 2), ('বলুন।', 2), ('প্রথম', 4), ('জিনিসটি', 1), ('লক্ষ্য', 1), ('করেছি', 9), ('চোখ।', 1), ('ধাক্কা', 1), ('খেয়েছি।', 2), ('বলছেন', 3), ('করেছেন', 4), ('সুন্দরী', 1), ('মেয়েদের', 1), ('একজন।', 1), ('ছোট।', 1), ('বলবেন', 1), ('বলব', 5), ('মাত্র', 4), ('মুখের', 1), ('বৈশিষ্ট্য', 1), ('কার', 1), ('গতকাল', 3), ('ভুল', 4), ('পেট', 3), ('করছ', 4), ('এখনও', 7), ('যাতে', 2), ('ইতিমধ্যে', 4), ('ওষুধ', 1), ('মিস', 8), ('অসুস্থ', 9), ('ছিলেন', 1), ('ব্যাথা', 2), ('আরো', 3), ('হয়েছে', 10), ('নীচে', 3), ('করছি।', 8), ('পেটের', 2), ('নিয়েছিলাম।', 2), ('যাওনি', 1), ('বাড়িতে', 4), ('করছিলাম', 2), ('বিরক্ত', 3), ('করছিল।', 1), ('একটুও', 1), ('একটু', 2), ('দোকানে', 5), ('যাচ্ছি', 7), ('পেপ্টো', 1), ('বিসমল', 1), ('শুনেছেন', 3), ('চাকরিতে', 1), ('প্রমোশন', 1), ('পেয়েছি।', 6), ('সিরিয়াসলি', 2), ('উত্তেজিত।', 2), ('অভিনন্দন।', 2), ('সুখী', 2), ('প্রাপ্য', 1), ('কর', 3), ('সুখবর', 1), ('শুনেছ', 3), ('বলোনি।', 1), ('সপ্তাহের', 1), ('শুরুতে', 1), ('কর্মক্ষেত্রে', 1), ('পদোন্নতি', 1), ('সঠিক', 6), ('এটাই', 2), ('খুশি', 7), ('প্রচারের', 2), ('উত্তেজিত', 1), ('সিরিয়াস', 4), ('যোগ্য।', 1), ('বলিনি', 2), ('শুনিনি', 4), ('বস', 1), ('পদোন্নতির', 1), ('প্রস্তাব', 1), ('দিয়েছিলেন', 1), ('দারুণ', 3), ('অভিনন্দন', 1), ('ওটার', 2), ('তারিফ', 2), ('ধারণা', 6), ('খুশি।', 1), ('লাগছে।', 5), ('পোশাকটি', 2), ('অন্য', 7), ('পেয়েছেন', 4), ('ম্যাসির', 2), ('কাছ', 4), ('থেকে', 15), ('সত্তিই', 1), ('আবার', 4), ('তোমাকেও', 2), ('জুতা', 5), ('তারা', 41), ('তারকা', 1), ('চক', 1), ('টেলর', 1), ('সেগুলি', 1), ('তাদের', 11), ('খরচ', 2), ('চল্লিশ', 1), ('ডলার', 2), ('যা', 10), ('পরেছেন', 1), ('একেবারেই', 1), ('কয়েকদিন', 1), ('কিনেছি।', 3), ('দেখাচ্ছে।', 1), ('কোথা', 1), ('কিনেছেন', 1), ('সান্তা', 1), ('অনিতা', 1), ('মলে', 1), ('সেই', 8), ('পোশাক', 2), ('চল্লিশের', 1), ('পোশাক।', 1), ('দোকান', 1), ('গিয়েছিলাম', 3), ('বাছাই', 1), ('আজকেও', 1), ('খুঁজে', 5), ('পেয়েছি', 3), ('দেখাচ্ছে', 1), ('অবসর', 1), ('সময়ে', 1), ('আঁকা', 6), ('পেইন্টিং', 1), ('হ্যা', 1), ('কখন', 7), ('শিখলেন', 1), ('ফিরে', 1), ('শিখেছি।', 2), ('আর্ট', 2), ('ক্লাস', 9), ('নিয়েছেন', 2), ('করতাম।', 1), ('পাচ্ছি', 3), ('প্রতিভাবান।', 2), ('এমন', 9), ('প্রতিভা', 1), ('থাকত।', 1), ('জিনিস', 6), ('জানতাম', 6), ('কীভাবে', 3), ('আঁকতে', 5), ('জানেন।', 1), ('একেক', 1), ('সময়', 9), ('একে', 6), ('কতদিন', 1), ('উচ্চ', 1), ('বিদ্যালয়ে', 1), ('ধরণের', 2), ('নিয়েছিলেন', 1), ('প্রিয়', 8), ('প্রতিভাবান', 2), ('হতাম।', 2), ('শখ', 1), ('থাকে', 4), ('আঁকতাম', 1), ('আঁকতাম।', 1), ('প্রায়ই', 1), ('শেখানো', 1), ('হয়েছিল', 6), ('শিল্প', 1), ('মুভিটি', 4), ('অসাধারণ।', 1), ('সিনেমা।', 2), ('সেটা', 6), ('সিনেমাটি', 2), ('যেদিন', 3), ('প্রেক্ষাগৃহে', 1), ('বের', 6), ('সেদিন', 1), ('দেখেছিলাম।', 1), ('পুরো', 4), ('জুড়ে', 3), ('হাসলেন', 1), ('করেছিলাম', 2), ('চোখে', 1), ('জল', 1), ('এনেছিল।', 1), ('আমারও', 3), ('ডিভিডিতে', 1), ('চান।', 1), ('সুপারব্যাড।', 1), ('সত্যি', 9), ('সিনেমাগুলোর', 1), ('মধ্যে', 6), ('একটি।', 1), ('মুভি', 1), ('হাস্যকর', 2), ('ভাবিনি', 1), ('দেখেছেন।', 2), ('গিয়েছিলাম।', 4), ('হাসছিলাম।', 1), ('হাসতে', 1), ('পারলাম', 1), ('এসে', 1), ('প্রতিটি', 2), ('সিনেমার', 1), ('কোনটি', 2), ('সুপারব্যাড', 3), ('সর্বকালের', 2), ('সেরা', 5), ('সুপার', 1), ('মিথ্যা', 1), ('দেখেছি।', 2), ('সেটি', 1), ('লাইনে', 1), ('থাকা', 5), ('হাসি', 2), ('আটকাতে', 1), ('পারিনি।', 5), ('হিস্ট্রিকভাবে', 1), ('হাসছিলাম', 1), ('পেশী', 1), ('যেভাবে', 1), ('সঙ্গীত', 4), ('শুনতে', 7), ('বিভিন্ন', 6), ('গান', 4), ('যেমন', 2), ('উদাহরণস্বরূপ', 1), ('রক', 3), ('আরএন্ডবি', 3), ('ব্যবহার', 5), ('করা', 16), ('যন্ত্র', 3), ('কারণ।', 2), ('শুনি।', 1), ('ঘরানা', 1), ('উভয়ই', 1), ('আগ্রহী', 1), ('শুক্রবার', 14), ('বাস্কেটবল', 3), ('খেলায়', 3), ('গিয়েছিলেন', 1), ('খেলা', 10), ('কে', 4), ('জিতেছে', 2), ('করেছে।', 1), ('খেলেছে।', 1), ('চেয়েছিলাম।', 2), ('উচিত।', 1), ('সত্যই', 1), ('উত্তেজনাকর', 1), ('স্কোর', 4), ('10198।', 2), ('ঘনিষ্ঠ', 4), ('অংশ', 1), ('পেরেছিলেন', 1), ('অক্ষম', 1), ('তীব্র', 1), ('জিতে', 1), ('দল', 3), ('বিজয়ী', 1), ('মুক্ত', 1), ('প্রকার', 1), ('পাগল', 1), ('যাইনি।', 1), ('শেষে', 1), ('10198', 1), ('জিতেছে।', 2), ('কারণে', 1), ('চাইছিলাম', 1), ('খুবই', 1), ('কঠিন', 1), ('খেলেছে', 1), ('চূড়ান্ত', 1), ('দলটি', 1), ('তিনটি', 1), ('পয়েন্টে', 1), ('হেরেছে', 1), ('অবশ্যই', 10), ('সপ্তাহে', 5), ('বন্ধুর', 5), ('যাচ্ছি।', 4), ('যাচ্ছেন', 6), ('ভাবতে', 4), ('কিছুই', 7), ('সময়।', 1), ('নির্দিষ্ট', 1), ('আমন্ত্রণ', 8), ('জানানোর', 1), ('পাস', 1), ('করব।', 1), ('হিসাবে', 1), ('নই।', 2), ('বন্ধু', 9), ('নজর', 1), ('কেড়েছে', 1), ('কোনো', 6), ('মাথায়', 1), ('আসে', 3), ('সিদ্ধান্ত', 1), ('কিনা', 2), ('গিয়েছিলে', 6), ('যাইনি', 1), ('sucks', 1), ('ইংরেজি', 3), ('অ্যাসাইনমেন্ট', 3), ('স্বাগতম।', 1), ('পড়েছেন', 1), ('পড়েছি।', 1), ('পারিনি', 2), ('শুনে', 1), ('প্রশংসা', 1), ('অসুবিধা', 1), ('অনুগ্রহ', 1), ('ফিরিয়ে', 1), ('দেব।', 1), ('গেছো', 1), ('সাংঘাতিক', 1), ('হব।', 1), ('মত।', 1), ('উল্লেখ', 1), ('করবেন', 2), ('টা', 1), ('হলো', 6), ('চাচাতো', 1), ('ভাই', 1), ('প্রসবের', 1), ('গিয়েছিল', 1), ('গত', 2), ('বাচ্চা', 1), ('হয়েছে।', 1), ('করেছে', 5), ('কেউ', 9), ('বলেনি', 2), ('ভেবেছিলাম', 6), ('বলেছে।', 1), ('বাচ্চার', 1), ('ওজন', 2), ('8', 3), ('পাউন্ড', 3), ('6', 2), ('আউন্স।', 2), ('ঈশ্বর', 3), ('শিশুর', 1), ('জানাবো।', 1), ('ডেব্রাহ', 1), ('ইতিমধ্যেই', 1), ('সন্তানের', 2), ('জন্ম', 2), ('দিয়েছে।', 4), ('জানতে', 3), ('শিশুটির', 1), ('৮', 1), ('৬', 1), ('যাবে', 5), ('সুসংবাদ', 1), ('শোনা', 1), ('ডেব্রা', 1), ('শুনেছেন।', 1), ('হয়নি।', 1), ('তিনি', 14), ('চতুর', 1), ('আউন্স', 1), ('বাহ', 1), ('উত্তেজনাপূর্ণ।', 1), ('গিয়ে', 1), ('শিশুটিকে', 1), ('চাইনি', 1), ('করিনি।', 3), ('দুঃখজনক', 1), ('গেছেন', 4), ('সুইচ।', 1), ('যান।', 1), ('নিজে', 3), ('যাইহোক', 2), ('যাওয়ার', 3), ('এসেছ', 1), ('সর্বদা', 1), ('বিষয়ের', 2), ('প্রশ্নের', 1), ('উত্তর', 2), ('বাধা', 1), ('দিচ্ছে', 1), ('একা', 1), ('যেতেও', 1), ('কষ্ট', 1), ('করছো', 3), ('তবে', 3), ('এলোমেলো', 2), ('পরিবর্তন।', 1), ('ধরতে', 1), ('যান', 4), ('আসার', 2), ('করতাম', 3), ('আসতাম', 1), ('করছিলে', 2), ('যাই', 4), ('হোক', 2), ('এসেছেন।', 3), ('বাধ্য', 1), ('কঠোর', 2), ('পরিশ্রম', 1), ('মূলত', 1), ('এসেছেন', 1), ('পাগলের', 1), ('বুঝতে', 4), ('পারছি', 4), ('এলে', 1), ('আরে', 2), ('জেসিকার', 3), ('পার্টির', 1), ('আমন্ত্রণের', 3), ('দিয়েছে', 3), ('জানাবে।', 2), ('মজা', 7), ('অনুষ্ঠান', 1), ('টায়', 2), ('কতজনকে', 1), ('জানিয়েছে', 2), ('নই', 6), ('এতগুলো', 1), ('শনিবার', 4), ('পার্টি', 17), ('সকালে', 1), ('অনুমান', 3), ('পার্টিতে', 4), ('আটটায়', 1), ('হওয়ার', 3), ('কথা।', 1), ('কতগুলো', 1), ('অনেকগুলি', 1), ('বলেছে', 3), ('আগেই', 1), ('পেয়েছিলাম।', 1), ('আমন্ত্রণটি', 1), ('দেবে।', 1), ('এমনকি', 2), ('বছরের', 1), ('চলেছে৷', 1), ('লোড', 2), ('800', 1), ('pm', 1), ('পত্র', 1), ('হে', 1), ('নিক্ষেপ', 3), ('করেননি', 1), ('বলেনি।', 1), ('রাত', 2), ('৮০০', 1), ('থাকব', 3), ('ধারণাই', 1), ('এ', 3), ('বিষয়ে', 2), ('পারবে', 1), ('৮টায়', 2), ('যাবো', 1), ('এসব', 3), ('পারেন', 6), ('যাব', 1), ('আসলেই', 2), ('কিচ্ছু', 1), ('আসবে', 3), ('ঘৃণা', 5), ('আগামী', 2), ('আসছ', 1), ('চাইলাম', 1), ('আসতে', 3), ('পরিবারের', 2), ('ডিনারে', 2), ('আসো', 1), ('বুঝি', 1), ('ধরে', 2), ('রাখব', 1), ('নয়', 11), ('দুঃখিত।', 1), ('আর', 5), ('পরিবার', 1), ('খাবার', 7), ('খেতে', 5), ('ওয়েল', 1), ('শান্ত', 2), ('পারবেন', 1), ('ব্যস্ত।', 1), ('সঙ্গে', 7), ('ডিনার', 3), ('পরবর্তী', 1), ('আসব', 1), ('সরিয়ে', 1), ('দেওয়ার', 1), ('নাক', 7), ('ডাকা', 2), ('ব্যবসা', 2), ('কথোপকথন', 1), ('দ্রুত', 2), ('বন্ধ', 6), ('বলতাম', 1), ('পাশাপাশি', 1), ('নাকওয়ালা', 1), ('ভদ্র', 4), ('ক্ষমাপ্রার্থী', 1), ('আপনাদের', 3), ('রাশ', 1), ('নামতে', 1), ('প্রস্তুত', 1), ('বিষয়', 2), ('যত্ন', 4), ('নেওয়া', 1), ('দয়া', 1), ('প্রশ্ন', 2), ('নিয়ে', 12), ('চিন্তা', 3), ('বলার', 1), ('মানে', 5), ('বলতেও', 3), ('দেওয়া', 3), ('পাবো', 1), ('করবো', 1), ('পেয়েছিলাম', 1), ('কিছুতে', 1), ('চলো', 1), ('সেট', 1), ('আপ', 2), ('থাকো', 1), ('প্যাসাডেনায়', 1), ('থাকি', 2), ('প্যাসাডেনা', 3), ('ক্যালিফোর্নিয়ায়', 2), ('দক্ষিণ', 1), ('ক্যালিফোর্নিয়া', 1), ('শহর', 4), ('এতে', 5), ('140000', 1), ('লোক', 2), ('রয়েছে', 3), ('লস', 1), ('অ্যাঞ্জেলস', 1), ('গাড়ি', 4), ('হোন্ডা', 1), ('2003', 1), ('সালে', 1), ('পুরনো', 1), ('এটা।', 1), ('দেখায়', 1), ('এটার', 2), ('নেন', 1), ('হ্যাঁ।', 2), ('একবার', 4), ('ধুয়ে', 3), ('ফেলি', 3), ('তেল', 1), ('বান্ধবী', 2), ('বান্ধবীও', 1), ('যথেষ্ট', 3), ('ধনী', 1), ('মেয়েরা', 2), ('টাকা', 11), ('দিয়ে', 2), ('ছেলেদের', 3), ('কুকুরটিকে', 1), ('হাঁটতে', 1), ('কুকুর', 2), ('পুডল', 3), ('পুডলস', 1), ('বাকল', 1), ('ঘেউ', 2), ('চুপ', 1), ('পেলেন', 1), ('মায়ের', 2), ('5', 1), ('ধার', 2), ('প্রয়োজন', 4), ('দুপুরের', 2), ('কিনতে', 2), ('মানিব্যাগে', 1), ('মানিব্যাগ', 1), ('খালি', 2), ('ডলারও', 1), ('ভেঙে', 3), ('পড়া', 1), ('শুধুমাত্র', 2), ('অল্প', 1), ('সবসময়ই', 1), ('গেলে', 1), ('বন্ধুরা', 1), ('দেবে', 1), ('আইডিয়া', 1), ('কিছুক্ষণ', 1), ('মাসও', 1), ('শেষবার', 1), ('ডুবে', 1), ('করিনি', 1), ('লাইফগার্ড', 1), ('পানিতে', 1), ('ডুব', 1), ('দিল', 1), ('সাঁতার', 1), ('কাটছিল', 1), ('ঘুরে', 1), ('দাঁড়ালেন', 1), ('ঠিকই', 1), ('বলেছেন', 1), ('বিবাহিত', 1), ('তালাকপ্রাপ্ত', 2), ('বিবাহবিচ্ছেদ', 3), ('দুই', 1), ('বছর', 1), ('ডিভোর্স', 1), ('স্ত্রী', 1), ('ছেড়ে', 2), ('চলে', 3), ('গেছে', 2), ('গেল', 1), ('বলেন', 1), ('ভালোবাসেন', 1), ('দারুন', 1), ('ভালোবাসেনি', 1), ('টিভিতে', 2), ('আকর্ষণীয়', 2), ('গেম', 1), ('শো', 4), ('চুক্তি', 2), ('বলো', 1), ('এখানে', 4), ('একমত।', 1), ('পাসাদেনা', 1), ('সারা', 2), ('বছরই', 1), ('গোলাপ', 1), ('প্যারেড', 1), ('ঘর', 2), ('রেস্তোরাঁ', 1), ('পাহাড়ের', 1), ('বন্ধুত্বপূর্ণ', 1), ('গদি', 1), ('ব্যাপার', 3), ('আরামদায়ক', 1), ('টস', 1), ('ঘুরতাম', 1), ('কফি', 3), ('পান', 4), ('বাহুতে', 1), ('চিহ্নগুলো', 1), ('দেখুন', 4), ('কামড়', 2), ('দেয়', 2), ('বিড়াল', 4), ('কামড়ায়', 1), ('গদিতে', 1), ('বেডবাগগুলি', 1), ('ল্যাপটপ', 2), ('ধীর', 2), ('কিনুন', 1), ('থাকলে', 2), ('এটাকে', 1), ('কম্পিউটারের', 1), ('এটির', 1), ('জানালার', 1), ('ফেলে', 1), ('খাবারের', 5), ('পিজা', 2), ('পিজ্জা', 2), ('খেয়েছিলেন', 1), ('সবাই', 2), ('পিৎজা', 1), ('বৈচিত্র্য', 1), ('সারাক্ষণ', 1), ('পনির', 1), ('পিজ্জার', 2), ('পরিবর্তে', 1), ('পেপারনি', 1), ('মতো', 5), ('সঞ্চয়', 5), ('বাড়ি', 3), ('ব্যয়বহুল', 1), ('এজন্য', 1), ('অর্থ', 1), ('ডাউন', 1), ('পেমেন্টের', 1), ('30000', 1), ('ত্রিশ', 1), ('হাজার', 1), ('চিরকাল', 3), ('লাগবে', 1), ('পয়সা', 2), ('সংরক্ষণ', 2), ('পাচ্ছেন', 1), ('চলতে', 1), ('গভীর', 2), ('মাইল', 1), ('মাছ', 4), ('উপরে', 1), ('উপর', 1), ('প্রেমিক', 1), ('সতর্ক', 1), ('করেছিলাম।', 1), ('শোনেনি', 1), ('জন্মদিনের', 1), ('1000', 1), ('দিয়েছি।', 1), ('নিজের', 1), ('ব্যয়', 1), ('বলেছিলাম', 1), ('পেরেছি', 1), ('প্রেমিককে', 1), ('দিয়েছেন', 1), ('করল', 1), ('বলেছিলেন', 1), ('আংটি', 1), ('কিনে', 1), ('দেবেন', 1), ('লাস', 1), ('ভেগাসে', 1), ('গিয়েছিলেন।', 1), ('জুয়া', 1), ('হারান', 1), ('প্রাণীরা', 1), ('অপরের', 2), ('প্রাণীদের', 1), ('চেহারা', 3), ('হা', 1), ('প্রাণী', 1), ('নোংরা', 3), ('সাহায্য', 3), ('পারো', 1), ('এটিকে', 1), ('বাথরুম', 1), ('করুন', 4), ('সহজ', 2), ('সিঙ্ক', 1), ('টব', 1), ('কাউন্টার', 1), ('টয়লেট', 1), ('টিভি', 2), ('দেখছেন', 1), ('চাচ্ছ', 3), ('জীবন', 2), ('মুখ', 1), ('খোলা', 2), ('রেখে', 1), ('বসে', 2), ('করেছ', 2), ('ভলিউম', 1), ('চালু', 2), ('বোঝাতে', 1), ('দাদীকে', 1), ('চিঠি', 2), ('লিখেছিলেন', 1), ('বললে', 3), ('বললাম', 2), ('স্কুলটা', 1), ('চিঠিটা', 1), ('খামে', 3), ('রেখেছিলেন', 2), ('খাম', 2), ('সিল', 1), ('স্ট্যাম্প', 4), ('লাগিয়েছিলেন', 1), ('পাইনি', 1), ('রান্নাঘরের', 1), ('ড্রয়ারে', 1), ('রাখা', 1), ('মেল', 1), ('হাঁচিছো', 1), ('ঘুমাই', 1), ('বিছানায়', 2), ('রেকর্ড', 1), ('টেপ', 1), ('রেকর্ডার', 1), ('পুনরায়', 1), ('চালানো', 1), ('আসলটা', 1), ('দেখছি', 2), ('মিনিটের', 2), ('ঘুমিয়ে', 1), ('পড়বেন', 1), ('বিজ্ঞাপন', 1), ('থাকায়', 1), ('হাহাকার', 1), ('রবিবার', 4), ('ভুলে', 1), ('গেছি', 2), ('গির্জায়', 3), ('কোট', 1), ('টাই', 1), ('ও', 2), ('অন্যদের', 1), ('প্রতি', 2), ('শ্রদ্ধা', 1), ('প্রদর্শন', 1), ('আনন্দিত', 1), ('শুনেননি', 1), ('বিড়ালকে', 1), ('খাওয়াতেন', 1), ('মেউইং', 1), ('করছে।', 1), ('ক্ষুধার্ত', 2), ('খাওয়াবো', 1), ('বাড়ির', 2), ('কিছুর', 2), ('নেয়', 1), ('বিড়ালরা', 1), ('এমনই', 1), ('ভাবছে', 1), ('নিজেরাই', 1), ('পরিত্রাণ', 1), ('শেভ', 3), ('নিজেকে', 2), ('কেটে', 2), ('ব্লেড', 3), ('পুরানো', 1), ('কাটা', 2), ('বৈদ্যুতিক', 1), ('শেভার', 1), ('শব্দ', 2), ('দাড়ি', 1), ('বাড়ান', 1), ('অন্যান্য', 1), ('দাড়িতে', 1), ('লেগে', 1), ('মাফ', 1), ('কোরো', 1), ('কাগজ', 1), ('পড়ছেন', 1), ('জিজ্ঞেস', 1), ('করলাম', 1), ('কাগজটা', 1), ('পাশেই', 2), ('তুলে', 2), ('নেবে', 1), ('জানি।', 1), ('অভদ্র', 2), ('বিশ্বের', 1), ('মা', 4), ('কুকুরছানা', 5), ('বিনামূল্যে', 1), ('শট', 4), ('খায়।', 1), ('দাম', 4), ('প্লেট', 1), ('দেব', 3), ('বিড়ালছানা', 1), ('তাকান', 1), ('কতজন', 2), ('আট', 1), ('রাখতে', 1), ('একজনকে', 1), ('ভালোবাসতাম', 1), ('কোনটা', 1), ('কালো', 2), ('বাবামা', 3), ('ঈশ্বরে', 1), ('স্বর্গে', 2), ('নিশ্চিতভাবে', 1), ('জানে', 2), ('মৃত্যুর', 1), ('ঈশ্বরের', 1), ('হব', 1), ('এমনটাই', 1), ('অনেকে', 1), ('হই', 1), ('জাহান্নামে', 2), ('অসুখী', 1), ('স্বামী', 1), ('মারা', 2), ('কবে', 1), ('গেলো', 1), ('কয়েক', 2), ('মাস', 1), ('প্রতিদিনই', 1), ('বলি', 1), ('মোবাইল', 2), ('ফোনে', 1), ('কবর', 1), ('দিয়েছি', 1), ('ত্রয়োদশ', 2), ('দুর্ভাগ্যজনক', 1), ('বাড়িতেই', 1), ('থাকার', 1), ('সেটাই', 1), ('তেরো', 1), ('তারিখ', 1), ('হোটেলে', 1), ('অবস্থান', 2), ('তলায়', 1), ('চুরি', 1), ('ভালোবাসো', 2), ('৷', 2), ('প্রমাণ', 2), ('ওটা', 2), ('রেস্টুরেন্টে', 1), ('ম্যাকডোনাল্ডসের', 1), ('রেস্টুরেন্টের', 1), ('ঝামেলা', 1), ('বাবা', 3), ('আহত', 1), ('রাগান্বিত', 1), ('বান্ধবীকে', 2), ('বাদ', 1), ('করতেন', 1), ('আসেন', 1), ('দাদির', 1), ('অ্যাপার্টমেন্টের', 1), ('বৃদ্ধ', 2), ('মানুষের', 1), ('হন', 1), ('ফলের', 3), ('পাকা', 2), ('বৃদ্ধরা', 1), ('মিতব্যয়ী', 2), ('দোকানের', 1), ('পায়', 1), ('স্ট্যাম্পের', 2), ('বেড়ে', 1), ('জন্মের', 1), ('42', 1), ('সেন্ট', 2), ('মে', 1), ('মাসে', 1), ('৪৪', 1), ('কখনো', 2), ('মেইলে', 1), ('হারিয়েছেন', 1), ('টাকার', 1), ('শার্ট', 2), ('বোতাম', 5), ('এলো', 1), ('প্রথমে', 2), ('বোতামটি', 1), ('হারালে', 1), ('কঠিন।', 1), ('প্যান্ট', 2), ('কাফের', 1), ('দিকে', 1), ('তাকাচ্ছেন', 1), ('কাফগুলিতে', 1), ('দাও', 1), ('অতিরিক্ত', 2), ('আছেন।', 1), ('বাথরুমে', 2), ('চকোলেট', 1), ('খান', 2), ('আয়নায়', 1), ('তাকিয়ে', 1), ('মোটা', 1), ('লন্ড্রি', 1), ('ধুয়েছ', 1), ('চাদর', 2), ('তোয়ালে', 2), ('ফেললাম', 2), ('বালিশের', 1), ('কেস', 1), ('বালিশ', 1), ('ড্রায়ারে', 2), ('শুকিয়ে', 1), ('সবকিছু', 1), ('শুকিয়েছি', 1), ('করলেন', 1), ('গুটিয়ে', 1), ('নিলাম', 1), ('রেডিও', 2), ('শুনছেন', 1), ('দিনরাত', 1), ('শুনি', 1), ('শুনছ', 1), ('বেশিরভাগ', 1), ('টক', 1), ('বর্তমান', 1), ('ঘটনা', 1), ('ট্যাক্স', 2), ('কমাতে', 2), ('চায়', 1), ('ফ্রিজে', 3), ('খুঁজছি।', 1), ('খাওয়ার', 1), ('বাজারে', 2), ('প্রচুর', 1), ('কমলা', 1), ('আপেল', 1), ('কিনেছি', 1), ('ফল', 2), ('সুস্বাদু', 1), ('স্যান্ডউইচ', 3), ('তৈরি', 1), ('হ্যাম', 1), ('রুটি', 1), ('ক্যাবিনেটে', 1), ('সরিষা', 1), ('আলু', 1), ('চিপস', 1), ('স্নান', 1), ('যুবতী', 1), ('গোসল', 1), ('পাই', 2), ('পেতাম', 1), ('সুগন্ধি', 1), ('কম্পিউটারে', 1), ('হল', 1), ('পর্দা', 1), ('আগেও', 1), ('ঘটেছে', 1), ('হার্ড', 3), ('ড্রাইভ', 4), ('বিধ্বস্ত', 2), ('এইচপি', 2), ('সমস্ত', 1), ('ফাইল', 2), ('হারাবেন', 1), ('ব্যাক', 1), ('কম্পিউটার', 1), ('বলল', 1), ('85', 1), ('প্লাস', 1), ('ইনস্টলেশন', 1), ('অপসারণ', 1), ('প্রতিস্থাপন', 1), ('স্ক্রু', 1), ('কাউকে', 1), ('60', 1), ('প্রদান', 1), ('ইমেইল', 1), ('ঠিকানা', 2), ('ব্লুডগ123', 1), ('bluedog123', 2), ('অসম্পূর্ণ', 1), ('মেইলিং', 1), ('456', 1), ('চেরি', 1), ('সিএ', 1), ('91170', 1), ('রাস্তা।', 1), ('রাজ্য', 1), ('জিপ', 1), ('কোড', 1), ('ঘুম', 1), ('ফোনটি', 1), ('আনপ্লাগ', 1), ('ঘন্টার', 1), ('জাগাই', 1), ('জেগে', 2), ('ঘুমাতে', 1), ('600', 1), ('ততক্ষণে', 1), ('জাগিয়ে', 1), ('তুলবে', 1), ('রান্নার', 1), ('পাব', 1), ('স্বপ্নও', 1), ('স্বপ্ন', 1), ('দেখব।', 1), ('ক্লান্ত', 1), ('অন্ত্যেষ্টিক্রিয়া', 1), ('ছেলে', 1), ('বাবাকে', 1), ('এটাও', 1), ('দীর্ঘ', 2), ('45', 1), ('গেছে।', 1), ('ভাষণ', 1), ('জানাজায়', 1), ('পরিবারই', 1), ('থাকবে', 1), ('ইয়েস', 1), ('আওয়াজ', 1), ('ফুঁকতে', 1), ('ফোনের', 1), ('ফুঁ', 1), ('শুনেছো', 1), ('শুনেছি।', 1), ('বিমান', 1), ('জোরে', 1), ('ফুঁকব', 1), ('পাবেন', 1), ('ঘরে', 1), ('হাতি', 1), ('বধির', 1), ('বন্ধু।', 1), ('পঁচিশের', 1), ('ভাবি', 1), ('হুম', 1), ('একজন', 1), ('কয়েকজন', 1), ('নিঃসঙ্গ', 1), ('বন্ধুদের', 1), ('ভাগ', 1), ('প্রতারণা', 2), ('পুরুষরা', 1), ('পুরুষ', 1), ('বই।', 1), ('ধরবে', 1), ('প্রতারক', 1), ('মহিলাকে', 1), ('পায়ের', 1), ('আঙ্গুল', 1), ('ফেলব', 1), ('ঝাঁকুনি', 1), ('একমত', 1), ('ঝাঁকুনিতে', 1), ('পূর্ণ', 1), ('সবখানেই', 1), ('চিৎকার', 3), ('ফর্মটা', 1), ('দেখবেন', 1), ('বুঝিয়ে', 1), ('দিচ্ছি', 1)])\n",
            "1479\n"
          ]
        }
      ],
      "source": [
        "print(ans_tokenizer.word_counts)\n",
        "# total unique words in answer\n",
        "print(len(ans_tokenizer.word_counts))"
      ]
    },
    {
      "cell_type": "code",
      "execution_count": null,
      "metadata": {
        "colab": {
          "base_uri": "https://localhost:8080/"
        },
        "id": "4tf21KH99oFZ",
        "outputId": "178e84a1-1f2f-419a-c460-eeb2e9d35769"
      },
      "outputs": [
        {
          "output_type": "execute_result",
          "data": {
            "text/plain": [
              "1480"
            ]
          },
          "metadata": {},
          "execution_count": 138
        }
      ],
      "source": [
        "ANS_VOCAB_SIZE=len(ans_tokenizer.word_counts) + 1\n",
        "ANS_VOCAB_SIZE"
      ]
    },
    {
      "cell_type": "code",
      "execution_count": null,
      "metadata": {
        "id": "1N6fpF_u5GwG"
      },
      "outputs": [],
      "source": [
        "# find max ques and ans length\n",
        "max_ques_len = 0\n",
        "for i in range(len(ques_encoded)):\n",
        "  if len(ques_encoded[i]) > max_ques_len:\n",
        "    max_ques_len= len(ques_encoded[i])\n",
        "\n",
        "max_ans_len = 0\n",
        "for i in range(len(ans_encoded)):\n",
        "  if len(ans_encoded[i]) > max_ans_len:\n",
        "    max_ans_len= len(ans_encoded[i])\n"
      ]
    },
    {
      "cell_type": "code",
      "execution_count": null,
      "metadata": {
        "colab": {
          "base_uri": "https://localhost:8080/"
        },
        "id": "BZ9372A35Ik1",
        "outputId": "2a8016d0-689f-4098-c59e-131819271553"
      },
      "outputs": [
        {
          "output_type": "execute_result",
          "data": {
            "text/plain": [
              "17"
            ]
          },
          "metadata": {},
          "execution_count": 140
        }
      ],
      "source": [
        "max_ans_len"
      ]
    },
    {
      "cell_type": "code",
      "execution_count": null,
      "metadata": {
        "colab": {
          "base_uri": "https://localhost:8080/"
        },
        "id": "gSxyMB9J5Her",
        "outputId": "bfc69e5b-0013-40b6-8776-c59c2c701446"
      },
      "outputs": [
        {
          "output_type": "execute_result",
          "data": {
            "text/plain": [
              "15"
            ]
          },
          "metadata": {},
          "execution_count": 141
        }
      ],
      "source": [
        "max_ques_len"
      ]
    },
    {
      "cell_type": "markdown",
      "metadata": {
        "id": "TUgKe9i98zbR"
      },
      "source": [
        "**Padding**"
      ]
    },
    {
      "cell_type": "code",
      "execution_count": null,
      "metadata": {
        "id": "Im9yk7gE8y6E"
      },
      "outputs": [],
      "source": [
        "from tensorflow.keras.preprocessing.sequence import pad_sequences"
      ]
    },
    {
      "cell_type": "code",
      "execution_count": null,
      "metadata": {
        "id": "3Dfr2jpC82nq"
      },
      "outputs": [],
      "source": [
        "# Use max length for padding for ques and ans\n",
        "ques_padded = pad_sequences(ques_encoded, maxlen=max_ques_len, padding='post')\n",
        "ans_padded = pad_sequences(ans_encoded, maxlen=max_ans_len, padding='post')"
      ]
    },
    {
      "cell_type": "code",
      "execution_count": null,
      "metadata": {
        "id": "WCSnw19385dS",
        "colab": {
          "base_uri": "https://localhost:8080/"
        },
        "outputId": "7f4cf8a7-2fff-4d3a-c1c5-c0a8cf453580"
      },
      "outputs": [
        {
          "output_type": "execute_result",
          "data": {
            "text/plain": [
              "array([[   1,  261,   59, ...,    0,    0,    0],\n",
              "       [   1,    3,   39, ...,    0,    0,    0],\n",
              "       [   1,  130,   69, ...,    0,    0,    0],\n",
              "       ...,\n",
              "       [   1,  255,    4, ...,    0,    0,    0],\n",
              "       [   1,    3,   23, ...,    0,    0,    0],\n",
              "       [   1, 1478, 1479, ...,    0,    0,    0]], dtype=int32)"
            ]
          },
          "metadata": {},
          "execution_count": 144
        }
      ],
      "source": [
        "ans_padded"
      ]
    },
    {
      "cell_type": "code",
      "execution_count": null,
      "metadata": {
        "id": "ckZKp_Pi86vq",
        "colab": {
          "base_uri": "https://localhost:8080/"
        },
        "outputId": "c0a9ca80-0e59-4b30-a1eb-98c95045163d"
      },
      "outputs": [
        {
          "output_type": "execute_result",
          "data": {
            "text/plain": [
              "array([[260,   0,   0, ...,   0,   0,   0],\n",
              "       [  1,  43, 187, ...,   0,   0,   0],\n",
              "       [  1,  37,  43, ...,   0,   0,   0],\n",
              "       ...,\n",
              "       [  3,   2,  23, ...,   0,   0,   0],\n",
              "       [254,   2,   8, ...,   0,   0,   0],\n",
              "       [  1,  21, 205, ...,   0,   0,   0]], dtype=int32)"
            ]
          },
          "metadata": {},
          "execution_count": 145
        }
      ],
      "source": [
        "ques_padded"
      ]
    },
    {
      "cell_type": "code",
      "execution_count": null,
      "metadata": {
        "id": "fvfKSob7889T",
        "colab": {
          "base_uri": "https://localhost:8080/"
        },
        "outputId": "5f0f3dee-19af-4856-cd45-3b9104e85113"
      },
      "outputs": [
        {
          "output_type": "execute_result",
          "data": {
            "text/plain": [
              "(1263, 15)"
            ]
          },
          "metadata": {},
          "execution_count": 146
        }
      ],
      "source": [
        "ques_padded.shape"
      ]
    },
    {
      "cell_type": "code",
      "execution_count": null,
      "metadata": {
        "id": "6GldLTCS89hD",
        "colab": {
          "base_uri": "https://localhost:8080/"
        },
        "outputId": "ea8f4e07-443a-415e-f6bb-688eee9690a8"
      },
      "outputs": [
        {
          "output_type": "execute_result",
          "data": {
            "text/plain": [
              "(1263, 17)"
            ]
          },
          "metadata": {},
          "execution_count": 147
        }
      ],
      "source": [
        "ans_padded.shape"
      ]
    },
    {
      "cell_type": "code",
      "execution_count": null,
      "metadata": {
        "id": "mEKcw5uV9BCT",
        "colab": {
          "base_uri": "https://localhost:8080/"
        },
        "outputId": "70f915ed-9db6-4e25-8d90-f4714d6c24ac"
      },
      "outputs": [
        {
          "output_type": "execute_result",
          "data": {
            "text/plain": [
              "numpy.ndarray"
            ]
          },
          "metadata": {},
          "execution_count": 148
        }
      ],
      "source": [
        "type(ans_padded)"
      ]
    },
    {
      "cell_type": "markdown",
      "metadata": {
        "id": "dy6Jw-FV9EGw"
      },
      "source": [
        "**Split into train and test**"
      ]
    },
    {
      "cell_type": "code",
      "execution_count": null,
      "metadata": {
        "id": "-7ZHreDc9EnT"
      },
      "outputs": [],
      "source": [
        "X_train, X_test, y_train, y_test = train_test_split(ques_padded, ans_padded, test_size=0.20, random_state= 55, shuffle =True)"
      ]
    },
    {
      "cell_type": "code",
      "execution_count": null,
      "metadata": {
        "id": "zzNai3q39Iqi",
        "colab": {
          "base_uri": "https://localhost:8080/"
        },
        "outputId": "678e0af9-5e55-4e87-9c51-80b5d9fad3ea"
      },
      "outputs": [
        {
          "output_type": "execute_result",
          "data": {
            "text/plain": [
              "((1136, 15), (127, 15), (1136, 17), (127, 17))"
            ]
          },
          "metadata": {},
          "execution_count": 150
        }
      ],
      "source": [
        "X_train.shape, X_test.shape, y_train.shape, y_test.shape\n",
        "# , X_val.shape, y_val.shape"
      ]
    },
    {
      "cell_type": "markdown",
      "metadata": {
        "id": "BkZWohWI9Kei"
      },
      "source": [
        "**Model**"
      ]
    },
    {
      "cell_type": "code",
      "execution_count": null,
      "metadata": {
        "id": "HmZjEnEO9L9-"
      },
      "outputs": [],
      "source": [
        "from tensorflow.keras.layers import LSTM, Dropout, Dense, Embedding, Bidirectional, Add, Concatenate, Dropout\n",
        "from tensorflow.keras import Input, Model"
      ]
    },
    {
      "cell_type": "code",
      "source": [
        "# from keras.regularizers import l2  # Use any regularizer from keras.regularizers that fits your needs\n",
        "# # Define hyperparameters\n",
        "# embedding_regularizer = l2(0.01)"
      ],
      "metadata": {
        "id": "7hocvglsp9Tl"
      },
      "execution_count": null,
      "outputs": []
    },
    {
      "cell_type": "code",
      "source": [
        "# Eoncoder\n",
        "encoder_input = Input(shape=(None, ))\n",
        "encoder_embd = Embedding(QUES_VOCAB_SIZE,512, mask_zero=True)(encoder_input)\n",
        "encoder_lstm = Bidirectional(LSTM(256, return_state=True))\n",
        "encoder_output, forw_state_h, forw_state_c, back_state_h, back_state_c = encoder_lstm(encoder_embd)\n",
        "state_h_final = Concatenate()([forw_state_h, back_state_h])\n",
        "state_c_final = Concatenate()([forw_state_c, back_state_c])\n",
        "\n",
        "# Now take only states and create context vector\n",
        "encoder_states= [state_h_final, state_c_final]\n",
        "\n",
        "# Decoder\n",
        "decoder_input = Input(shape=(None,))\n",
        "# For zero padding we have added +1 in marathi vocab size\n",
        "decoder_embd = Embedding(ANS_VOCAB_SIZE, 512, mask_zero=True)\n",
        "decoder_embedding= decoder_embd(decoder_input)\n",
        "# We used bidirectional layer above so we have to double units of this lstm\n",
        "decoder_lstm = LSTM(512, return_state=True,return_sequences=True )\n",
        "# just take output of this decoder dont need self states\n",
        "decoder_outputs, _, _= decoder_lstm(decoder_embedding, initial_state=encoder_states)\n",
        "# here this is going to predicct so we can add dense layer here\n",
        "# here we want to convert predicted numbers into probability so use softmax\n",
        "decoder_dense= Dense(ANS_VOCAB_SIZE, activation='softmax')\n",
        "# We will again feed predicted output into decoder to predict its next word\n",
        "decoder_outputs = decoder_dense(decoder_outputs)\n",
        "\n",
        "model5 = Model([encoder_input, decoder_input], decoder_outputs)"
      ],
      "metadata": {
        "id": "t-1hp_q7u9WQ"
      },
      "execution_count": null,
      "outputs": []
    },
    {
      "cell_type": "code",
      "execution_count": null,
      "metadata": {
        "id": "v0Hy3N2w9slZ",
        "colab": {
          "base_uri": "https://localhost:8080/",
          "height": 564
        },
        "outputId": "7a31792b-f7e2-4b51-9f34-2d8efc07edcd"
      },
      "outputs": [
        {
          "output_type": "execute_result",
          "data": {
            "image/png": "[encoded data removed]",
            "text/plain": [
              "<IPython.core.display.Image object>"
            ]
          },
          "metadata": {},
          "execution_count": 154
        }
      ],
      "source": [
        "from tensorflow.keras.utils import plot_model\n",
        "plot_model(model5)"
      ]
    },
    {
      "cell_type": "code",
      "execution_count": null,
      "metadata": {
        "id": "NK4b_QVM9zAc",
        "colab": {
          "base_uri": "https://localhost:8080/"
        },
        "outputId": "3c379ed8-613c-4c40-e556-a5a949c26a81"
      },
      "outputs": [
        {
          "output_type": "stream",
          "name": "stdout",
          "text": [
            "Model: \"model_6\"\n",
            "__________________________________________________________________________________________________\n",
            " Layer (type)                Output Shape                 Param #   Connected to                  \n",
            "==================================================================================================\n",
            " input_9 (InputLayer)        [(None, None)]               0         []                            \n",
            "                                                                                                  \n",
            " embedding_4 (Embedding)     (None, None, 512)            756736    ['input_9[0][0]']             \n",
            "                                                                                                  \n",
            " input_10 (InputLayer)       [(None, None)]               0         []                            \n",
            "                                                                                                  \n",
            " bidirectional_2 (Bidirecti  [(None, 512),                1574912   ['embedding_4[0][0]']         \n",
            " onal)                        (None, 256),                                                        \n",
            "                              (None, 256),                                                        \n",
            "                              (None, 256),                                                        \n",
            "                              (None, 256)]                                                        \n",
            "                                                                                                  \n",
            " embedding_5 (Embedding)     (None, None, 512)            757760    ['input_10[0][0]']            \n",
            "                                                                                                  \n",
            " concatenate_4 (Concatenate  (None, 512)                  0         ['bidirectional_2[0][1]',     \n",
            " )                                                                   'bidirectional_2[0][3]']     \n",
            "                                                                                                  \n",
            " concatenate_5 (Concatenate  (None, 512)                  0         ['bidirectional_2[0][2]',     \n",
            " )                                                                   'bidirectional_2[0][4]']     \n",
            "                                                                                                  \n",
            " lstm_5 (LSTM)               [(None, None, 512),          2099200   ['embedding_5[0][0]',         \n",
            "                              (None, 512),                           'concatenate_4[0][0]',       \n",
            "                              (None, 512)]                           'concatenate_5[0][0]']       \n",
            "                                                                                                  \n",
            " dense_2 (Dense)             (None, None, 1480)           759240    ['lstm_5[0][0]']              \n",
            "                                                                                                  \n",
            "==================================================================================================\n",
            "Total params: 5947848 (22.69 MB)\n",
            "Trainable params: 5947848 (22.69 MB)\n",
            "Non-trainable params: 0 (0.00 Byte)\n",
            "__________________________________________________________________________________________________\n"
          ]
        }
      ],
      "source": [
        "model5.summary()"
      ]
    },
    {
      "cell_type": "code",
      "source": [
        "from keras.optimizers import Adam\n",
        "optimizer = Adam(learning_rate=0.01)\n",
        "model5.compile(optimizer=optimizer, loss='sparse_categorical_crossentropy', metrics=['accuracy'])\n",
        "# model5.compile(optimizer='rmsprop', loss='sparse_categorical_crossentropy', metrics=['accuracy'])"
      ],
      "metadata": {
        "id": "VgsYNkMBkzKZ"
      },
      "execution_count": null,
      "outputs": []
    },
    {
      "cell_type": "code",
      "execution_count": null,
      "metadata": {
        "id": "h-hb6TfU931S"
      },
      "outputs": [],
      "source": [
        "from tensorflow.keras.callbacks import ModelCheckpoint, EarlyStopping\n",
        "\n",
        "early_stopping = EarlyStopping(monitor='val_accuracy', patience=10)\n",
        "\n",
        "# callbacks_list = [checkpoint, early_stopping]"
      ]
    },
    {
      "cell_type": "code",
      "execution_count": null,
      "metadata": {
        "id": "xj_n6Ami98lL"
      },
      "outputs": [],
      "source": [
        "# Training\n",
        "encoder_input_data = X_train\n",
        "decoder_input_data = y_train[:,:-1]\n",
        "decoder_target_data = y_train[:,1:]\n",
        "\n",
        "# Testing\n",
        "encoder_input_test = X_test\n",
        "decoder_input_test = y_test[:,:-1]\n",
        "decoder_target_test= y_test[:,1:]"
      ]
    },
    {
      "cell_type": "code",
      "source": [
        "encoder_input_data.shape"
      ],
      "metadata": {
        "colab": {
          "base_uri": "https://localhost:8080/"
        },
        "id": "edYOFEC7NS38",
        "outputId": "1168be9a-bec6-4fd7-ceda-a525e2cc3b29"
      },
      "execution_count": null,
      "outputs": [
        {
          "output_type": "execute_result",
          "data": {
            "text/plain": [
              "(1136, 15)"
            ]
          },
          "metadata": {},
          "execution_count": 173
        }
      ]
    },
    {
      "cell_type": "code",
      "source": [
        "decoder_input_data.shape"
      ],
      "metadata": {
        "colab": {
          "base_uri": "https://localhost:8080/"
        },
        "id": "30b6vXpcNUY5",
        "outputId": "9a34b43e-0723-48af-adf8-31a8ed442271"
      },
      "execution_count": null,
      "outputs": [
        {
          "output_type": "execute_result",
          "data": {
            "text/plain": [
              "(1136, 16)"
            ]
          },
          "metadata": {},
          "execution_count": 174
        }
      ]
    },
    {
      "cell_type": "code",
      "source": [
        "decoder_target_data.shape"
      ],
      "metadata": {
        "colab": {
          "base_uri": "https://localhost:8080/"
        },
        "id": "kEhVpHuLNWCa",
        "outputId": "f5a37e3d-89e4-40d1-8251-a00337acd452"
      },
      "execution_count": null,
      "outputs": [
        {
          "output_type": "execute_result",
          "data": {
            "text/plain": [
              "(1136, 16)"
            ]
          },
          "metadata": {},
          "execution_count": 175
        }
      ]
    },
    {
      "cell_type": "code",
      "source": [
        "history = model5.fit([encoder_input_data, decoder_input_data],decoder_target_data,\n",
        "                    epochs=100,\n",
        "                    batch_size=128,\n",
        "                    validation_data = ([encoder_input_test, decoder_input_test],decoder_target_test),\n",
        "                    callbacks= [early_stopping]\n",
        "                    )"
      ],
      "metadata": {
        "id": "hcp2YPSRg9Wv"
      },
      "execution_count": null,
      "outputs": []
    },
    {
      "cell_type": "code",
      "execution_count": null,
      "metadata": {
        "id": "tjVoBf-WrXTu",
        "colab": {
          "base_uri": "https://localhost:8080/"
        },
        "outputId": "25e1c29c-768b-4221-8381-1cf73d403b02"
      },
      "outputs": [
        {
          "output_type": "stream",
          "name": "stdout",
          "text": [
            "4/4 [==============================] - 0s 13ms/step - loss: 7.3993 - accuracy: 0.3165\n",
            "loss: 7.399287223815918\n",
            "Accuracy: 0.3164812922477722\n"
          ]
        }
      ],
      "source": [
        "loss,accuracy = model5.evaluate([encoder_input_test, decoder_input_test],decoder_target_test)\n",
        "print(\"loss:\",loss)\n",
        "print(\"Accuracy:\",accuracy)"
      ]
    },
    {
      "cell_type": "code",
      "source": [
        "train_accuracy = history.history['accuracy']\n",
        "val_accuracy = history.history['val_accuracy']\n",
        "\n",
        "# Get the index of the maximum validation accuracy\n",
        "best_val_accuracy_index = val_accuracy.index(max(val_accuracy))\n",
        "\n",
        "# Use the index to get the corresponding training accuracy\n",
        "best_train_accuracy = train_accuracy[best_val_accuracy_index]\n",
        "\n",
        "# Print the best training and validation accuracies\n",
        "print(\"Training Accuracy:\", best_train_accuracy)\n",
        "print(\"Validation Accuracy:\", max(val_accuracy))"
      ],
      "metadata": {
        "id": "RJAKDS5gB0lo",
        "colab": {
          "base_uri": "https://localhost:8080/"
        },
        "outputId": "6ddb249b-8e6a-43f9-8b73-72f5a78c2624"
      },
      "execution_count": null,
      "outputs": [
        {
          "output_type": "stream",
          "name": "stdout",
          "text": [
            "Training Accuracy: 0.9947892427444458\n",
            "Validation Accuracy: 0.3225480318069458\n"
          ]
        }
      ]
    },
    {
      "cell_type": "code",
      "execution_count": null,
      "metadata": {
        "id": "JxYSJYCl-HcX"
      },
      "outputs": [],
      "source": [
        "model5.save_weights(\"/content/drive/MyDrive/CSE715-Project Group 6/model.h5\")"
      ]
    },
    {
      "cell_type": "code",
      "execution_count": null,
      "metadata": {
        "id": "9N7Ui31s4Z4K"
      },
      "outputs": [],
      "source": [
        "import matplotlib.pyplot as plt\n",
        "\n",
        "# Access the training history\n",
        "train_loss = history.history['loss']\n",
        "val_loss = history.history['val_loss']\n",
        "train_accuracy = history.history['accuracy']\n",
        "val_accuracy = history.history['val_accuracy']\n",
        "epochs = range(1, len(train_loss) + 1)\n",
        "\n",
        "# Plot training and validation loss\n",
        "plt.figure(figsize=(10, 5))\n",
        "plt.subplot(1, 2, 1)\n",
        "plt.plot(epochs, train_loss, 'r', label='Training loss')\n",
        "plt.plot(epochs, val_loss, 'b', label='Validation loss')\n",
        "plt.title('Training and Validation Loss')\n",
        "plt.xlabel('Epochs')\n",
        "plt.ylabel('Loss')\n",
        "plt.legend()\n",
        "\n",
        "# Plot training and validation accuracy\n",
        "plt.subplot(1, 2, 2)\n",
        "plt.plot(epochs, train_accuracy, 'r', label='Training accuracy')\n",
        "plt.plot(epochs, val_accuracy, 'b', label='Validation accuracy')\n",
        "plt.title('Training and Validation Accuracy')\n",
        "plt.xlabel('Epochs')\n",
        "plt.ylabel('Accuracy')\n",
        "plt.legend()\n",
        "\n",
        "plt.tight_layout()\n",
        "plt.show()\n"
      ]
    },
    {
      "cell_type": "markdown",
      "source": [
        "**Inference Model**"
      ],
      "metadata": {
        "id": "h1D9Zgg9LdZG"
      }
    },
    {
      "cell_type": "code",
      "source": [
        "from tensorflow.keras.layers import LSTM, Dropout, Dense, Embedding\n",
        "from tensorflow.keras import Input, Model\n",
        "\n",
        "\n",
        "encoder_model = Model(encoder_input, encoder_states)\n",
        "\n",
        "\n",
        "decoder_state_input_h = Input(shape=(512,))\n",
        "decoder_state_input_c= Input(shape=(512,))\n",
        "decoder_states_input= [decoder_state_input_h, decoder_state_input_c]\n",
        "\n",
        "dec_embd2 = decoder_embd(decoder_input)\n",
        "\n",
        "decoder_output2,state_h2, state_c2 = decoder_lstm(dec_embd2, initial_state=decoder_states_input)\n",
        "deccoder_states2= [state_h2, state_c2]\n",
        "\n",
        "decoder_output2 = decoder_dense(decoder_output2)\n",
        "\n",
        "decoder_model = Model(\n",
        "                      [decoder_input]+decoder_states_input,\n",
        "                      [decoder_output2]+ deccoder_states2)"
      ],
      "metadata": {
        "id": "aG3vgSK3sv_q"
      },
      "execution_count": null,
      "outputs": []
    },
    {
      "cell_type": "markdown",
      "source": [
        "**Prediction**"
      ],
      "metadata": {
        "id": "xs-A60euXAO6"
      }
    },
    {
      "cell_type": "code",
      "source": [
        "def get_predicted_sentence(input_seq):\n",
        "    # Encode the input as state vectors.\n",
        "    states_value = encoder_model.predict(input_seq)\n",
        "\n",
        "    # Generate empty target sequence of length 1.\n",
        "    target_seq = np.zeros((1,1))\n",
        "\n",
        "    # Populate the first character of target sequence with the start character.\n",
        "    target_seq[0, 0] = ans_word_index['শুরু']\n",
        "\n",
        "    # Sampling loop for a batch of sequences\n",
        "\n",
        "    # (to simplify, here we assume a batch of size 1).\n",
        "    stop_condition = False\n",
        "    decoded_sentence = ''\n",
        "\n",
        "    while not stop_condition:\n",
        "        output_tokens, h, c = decoder_model.predict([target_seq] + states_value)\n",
        "        # Sample a token\n",
        "        sampled_token_index = np.argmax(output_tokens[0, -1, :])\n",
        "        if sampled_token_index==0:\n",
        "          break\n",
        "        else:\n",
        "         # convert max index number to marathi word\n",
        "         sampled_char = ans_index_word[sampled_token_index]\n",
        "        # aapend it ti decoded sent\n",
        "        decoded_sentence += ' '+sampled_char\n",
        "\n",
        "        # Exit condition: either hit max length or find stop token.\n",
        "        if (sampled_char == 'শেষ' or len(decoded_sentence) >= 30):\n",
        "            stop_condition = True\n",
        "\n",
        "        # Update the target sequence (of length 1).\n",
        "        target_seq = np.zeros((1,1))\n",
        "        target_seq[0, 0] = sampled_token_index\n",
        "\n",
        "        # Update states\n",
        "        states_value = [h, c]\n",
        "\n",
        "    return decoded_sentence[:-3]"
      ],
      "metadata": {
        "id": "snzevC1DuEHx"
      },
      "execution_count": null,
      "outputs": []
    },
    {
      "cell_type": "code",
      "source": [
        "def get_response_sentence(sequence):\n",
        "  sentence=\"\"\n",
        "  for i in sequence:\n",
        "    if ((i != 0 and i != ans_word_index['শুরু']) and i != ans_word_index['শেষ']):\n",
        "      sentence = sentence + ans_index_word[i]+' '\n",
        "  return sentence\n",
        "\n",
        "def get_question_sentence(sequence):\n",
        "    sentence =''\n",
        "    for i in sequence:\n",
        "      if(i!=0):\n",
        "        sentence = sentence + ques_index_word[i]+' '\n",
        "    return sentence\n",
        "\n",
        "\n",
        "# for i in range(20):\n",
        "#   print(\"Question sentence:\",get_question_sentence(X_test[i]))\n",
        "#   print(\"Actual Response:\",get_response_sentence(y_test[i]))\n",
        "#   print(\"Predicted Response:\",get_predicted_sentence(X_test[i].reshape(1,9))[:-4])\n",
        "#   print(\"\\n\")"
      ],
      "metadata": {
        "id": "xl3FER_KuJFN"
      },
      "execution_count": null,
      "outputs": []
    },
    {
      "cell_type": "markdown",
      "source": [
        "**Testing**"
      ],
      "metadata": {
        "id": "hjyCG6wEL3lS"
      }
    },
    {
      "cell_type": "code",
      "source": [
        "import string\n",
        "\n",
        "def get_user_input():\n",
        "    user_input = input()\n",
        "    # Perform any necessary preprocessing on the user input\n",
        "    # remove multiple spaces if exists\n",
        "    user_input = \" \".join(user_input.split())\n",
        "    translator = str.maketrans('', '', string.punctuation)\n",
        "    user_input = user_input.translate(translator)\n",
        "\n",
        "    user_input_tokens = []\n",
        "    # Tokenize the input\n",
        "    for token1 in user_input.split():\n",
        "      # print(token1)\n",
        "      for token2, word in ques_index_word.items():\n",
        "        # print(f'Token: {token2}, Word: {word}')\n",
        "        if word == token1:\n",
        "          user_input_tokens.append(token2)\n",
        "\n",
        "    # print(user_input_tokens)\n",
        "    # user_input_sentence = ' '.join(user_input_tokens)\n",
        "    ques_padded = pad_sequences([user_input_tokens], maxlen=max_ques_len, padding='post')\n",
        "    return ques_padded\n",
        "\n",
        "while(True):\n",
        "  # Now use the get_user_input function to obtain user input\n",
        "  user_input_sequence = get_user_input()\n",
        "  # print(user_input_sequence)\n",
        "  # Get the predicted response\n",
        "  predicted_response = get_predicted_sentence(user_input_sequence)\n",
        "\n",
        "  # Print the result\n",
        "  # print(\"User Input:\", user_input_sequence)\n",
        "  print(\"Predicted Response:\", predicted_response)\n"
      ],
      "metadata": {
        "id": "AcaHhrbNxPDT"
      },
      "execution_count": null,
      "outputs": []
    },
    {
      "cell_type": "markdown",
      "source": [
        "**Engilsh Language Support**"
      ],
      "metadata": {
        "id": "OFmnpFKULmqb"
      }
    },
    {
      "cell_type": "code",
      "source": [
        "!pip install translate"
      ],
      "metadata": {
        "id": "OBBTlaHNMM_4"
      },
      "execution_count": null,
      "outputs": []
    },
    {
      "cell_type": "code",
      "source": [
        "from translate import Translator\n",
        "\n",
        "def translate_text(text, source_lang, target_lang):\n",
        "    translator = Translator(from_lang=source_lang, to_lang=target_lang)\n",
        "    translation = translator.translate(text)\n",
        "    return translation"
      ],
      "metadata": {
        "id": "ryhuvAPOCOah"
      },
      "execution_count": null,
      "outputs": []
    },
    {
      "cell_type": "code",
      "source": [
        "import string\n",
        "\n",
        "def get_user_input():\n",
        "    user_input = input()\n",
        "    user_input = translate_text(english_text, \"en\", \"bn\")\n",
        "    # Perform any necessary preprocessing on the user input\n",
        "    # remove multiple spaces if exists\n",
        "    user_input = \" \".join(user_input.split())\n",
        "    translator = str.maketrans('', '', string.punctuation)\n",
        "    user_input = user_input.translate(translator)\n",
        "\n",
        "    user_input_tokens = []\n",
        "    # Tokenize the input\n",
        "    for token1 in user_input.split():\n",
        "      # print(token1)\n",
        "      for token2, word in ques_index_word.items():\n",
        "        # print(f'Token: {token2}, Word: {word}')\n",
        "        if word == token1:\n",
        "          user_input_tokens.append(token2)\n",
        "\n",
        "    # print(user_input_tokens)\n",
        "    # user_input_sentence = ' '.join(user_input_tokens)\n",
        "    ques_padded = pad_sequences([user_input_tokens], maxlen=max_ques_len, padding='post')\n",
        "    return ques_padded\n",
        "\n",
        "while(True):\n",
        "  # Now use the get_user_input function to obtain user input\n",
        "  user_input_sequence = get_user_input()\n",
        "  # print(user_input_sequence)\n",
        "  # Get the predicted response\n",
        "  predicted_response = get_predicted_sentence(user_input_sequence)\n",
        "\n",
        "  # Print the result\n",
        "  # print(\"User Input:\", user_input_sequence)\n",
        "  predicted_response = translate_text(english_text, \"bn\", \"en\")\n",
        "  print(\"Predicted Response:\", predicted_response)\n"
      ],
      "metadata": {
        "id": "IPQavhW9L9DW"
      },
      "execution_count": null,
      "outputs": []
    }
  ],
  "metadata": {
    "colab": {
      "provenance": [],
      "include_colab_link": true
    },
    "kernelspec": {
      "display_name": "Python 3",
      "name": "python3"
    },
    "language_info": {
      "name": "python"
    }
  },
  "nbformat": 4,
  "nbformat_minor": 0
}