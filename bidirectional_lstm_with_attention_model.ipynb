{
  "nbformat": 4,
  "nbformat_minor": 0,
  "metadata": {
    "colab": {
      "provenance": [],
      "gpuType": "T4",
      "include_colab_link": true
    },
    "kernelspec": {
      "name": "python3",
      "display_name": "Python 3"
    },
    "language_info": {
      "name": "python"
    },
    "accelerator": "GPU"
  },
  "cells": [
    {
      "cell_type": "markdown",
      "metadata": {
        "id": "view-in-github",
        "colab_type": "text"
      },
      "source": [
        "<a href=\"https://colab.research.google.com/github/bushra-rafia/Bangla-Chatbot/blob/master/bidirectional_lstm_with_attention_model.ipynb\" target=\"_parent\"><img src=\"https://colab.research.google.com/assets/colab-badge.svg\" alt=\"Open In Colab\"/></a>"
      ]
    },
    {
      "cell_type": "code",
      "source": [
        "from google.colab import drive\n",
        "drive.mount('/content/drive')"
      ],
      "metadata": {
        "colab": {
          "base_uri": "https://localhost:8080/"
        },
        "id": "R8Spi6caPowm",
        "outputId": "d7b1f936-c100-446e-de5e-5252f62873de"
      },
      "execution_count": null,
      "outputs": [
        {
          "output_type": "stream",
          "name": "stdout",
          "text": [
            "Drive already mounted at /content/drive; to attempt to forcibly remount, call drive.mount(\"/content/drive\", force_remount=True).\n"
          ]
        }
      ]
    },
    {
      "cell_type": "markdown",
      "source": [
        "**Import libraries**"
      ],
      "metadata": {
        "id": "Qb8PArtJQKG5"
      }
    },
    {
      "cell_type": "code",
      "source": [
        "import os\n",
        "import numpy as np\n",
        "import pandas as pd\n",
        "import tensorflow as tf\n",
        "tf.config.run_functions_eagerly(True)\n",
        "\n",
        "from sklearn.model_selection import train_test_split\n",
        "from tensorflow.keras.preprocessing.text import Tokenizer\n",
        "from tensorflow.keras.preprocessing.sequence import pad_sequences\n",
        "\n",
        "from keras.optimizers import Adam\n",
        "from tensorflow.keras import Input, Model\n",
        "from tensorflow.keras.utils import plot_model\n",
        "from tensorflow.keras.callbacks import ModelCheckpoint, EarlyStopping\n",
        "from tensorflow.keras.layers import Dense, LSTM, Bidirectional, Embedding, Concatenate, Dropout"
      ],
      "metadata": {
        "id": "zonMTXziPp_A"
      },
      "execution_count": null,
      "outputs": []
    },
    {
      "cell_type": "markdown",
      "source": [
        "**Load the cleaned dataset**"
      ],
      "metadata": {
        "id": "xKq0y2_IS1J2"
      }
    },
    {
      "cell_type": "code",
      "source": [
        "df= pd.read_csv(\"/content/drive/MyDrive/CSE715-Project Group 6/Codebase/dataset/cleaned_dataset.csv\")"
      ],
      "metadata": {
        "id": "IBJ63_fZtFUQ"
      },
      "execution_count": null,
      "outputs": []
    },
    {
      "cell_type": "code",
      "source": [
        "df.head()"
      ],
      "metadata": {
        "colab": {
          "base_uri": "https://localhost:8080/",
          "height": 206
        },
        "id": "vNKWxzOji8kS",
        "outputId": "04deed98-2f39-46e1-eeeb-fe8cca89b95b"
      },
      "execution_count": null,
      "outputs": [
        {
          "output_type": "execute_result",
          "data": {
            "text/plain": [
              "  Queries                                           Response\n",
              "0   এই যে          শুরু হাই আমি কীভাবে সাহায্য করতে পারি শেষ\n",
              "1    হেলো  শুরু হ্যালো আমি আপনাকে কীভাবে সাহায্য করতে পার...\n",
              "2  হ্যালো        শুরু হ্যালো আমি আপনার জন্য কী করতে পারি শেষ\n",
              "3     হাই   শুরু হাই আমি আপনাকে কীভাবে সাহায্য করতে পারি শেষ\n",
              "4      হে           শুরু হাই আমি আপনার জন্য কী করতে পারি শেষ"
            ],
            "text/html": [
              "\n",
              "  <div id=\"df-0b8b8538-c654-4a5f-a71e-0ca4b2e35379\" class=\"colab-df-container\">\n",
              "    <div>\n",
              "<style scoped>\n",
              "    .dataframe tbody tr th:only-of-type {\n",
              "        vertical-align: middle;\n",
              "    }\n",
              "\n",
              "    .dataframe tbody tr th {\n",
              "        vertical-align: top;\n",
              "    }\n",
              "\n",
              "    .dataframe thead th {\n",
              "        text-align: right;\n",
              "    }\n",
              "</style>\n",
              "<table border=\"1\" class=\"dataframe\">\n",
              "  <thead>\n",
              "    <tr style=\"text-align: right;\">\n",
              "      <th></th>\n",
              "      <th>Queries</th>\n",
              "      <th>Response</th>\n",
              "    </tr>\n",
              "  </thead>\n",
              "  <tbody>\n",
              "    <tr>\n",
              "      <th>0</th>\n",
              "      <td>এই যে</td>\n",
              "      <td>শুরু হাই আমি কীভাবে সাহায্য করতে পারি শেষ</td>\n",
              "    </tr>\n",
              "    <tr>\n",
              "      <th>1</th>\n",
              "      <td>হেলো</td>\n",
              "      <td>শুরু হ্যালো আমি আপনাকে কীভাবে সাহায্য করতে পার...</td>\n",
              "    </tr>\n",
              "    <tr>\n",
              "      <th>2</th>\n",
              "      <td>হ্যালো</td>\n",
              "      <td>শুরু হ্যালো আমি আপনার জন্য কী করতে পারি শেষ</td>\n",
              "    </tr>\n",
              "    <tr>\n",
              "      <th>3</th>\n",
              "      <td>হাই</td>\n",
              "      <td>শুরু হাই আমি আপনাকে কীভাবে সাহায্য করতে পারি শেষ</td>\n",
              "    </tr>\n",
              "    <tr>\n",
              "      <th>4</th>\n",
              "      <td>হে</td>\n",
              "      <td>শুরু হাই আমি আপনার জন্য কী করতে পারি শেষ</td>\n",
              "    </tr>\n",
              "  </tbody>\n",
              "</table>\n",
              "</div>\n",
              "    <div class=\"colab-df-buttons\">\n",
              "\n",
              "  <div class=\"colab-df-container\">\n",
              "    <button class=\"colab-df-convert\" onclick=\"convertToInteractive('df-0b8b8538-c654-4a5f-a71e-0ca4b2e35379')\"\n",
              "            title=\"Convert this dataframe to an interactive table.\"\n",
              "            style=\"display:none;\">\n",
              "\n",
              "  <svg xmlns=\"http://www.w3.org/2000/svg\" height=\"24px\" viewBox=\"0 -960 960 960\">\n",
              "    <path d=\"M120-120v-720h720v720H120Zm60-500h600v-160H180v160Zm220 220h160v-160H400v160Zm0 220h160v-160H400v160ZM180-400h160v-160H180v160Zm440 0h160v-160H620v160ZM180-180h160v-160H180v160Zm440 0h160v-160H620v160Z\"/>\n",
              "  </svg>\n",
              "    </button>\n",
              "\n",
              "  <style>\n",
              "    .colab-df-container {\n",
              "      display:flex;\n",
              "      gap: 12px;\n",
              "    }\n",
              "\n",
              "    .colab-df-convert {\n",
              "      background-color: #E8F0FE;\n",
              "      border: none;\n",
              "      border-radius: 50%;\n",
              "      cursor: pointer;\n",
              "      display: none;\n",
              "      fill: #1967D2;\n",
              "      height: 32px;\n",
              "      padding: 0 0 0 0;\n",
              "      width: 32px;\n",
              "    }\n",
              "\n",
              "    .colab-df-convert:hover {\n",
              "      background-color: #E2EBFA;\n",
              "      box-shadow: 0px 1px 2px rgba(60, 64, 67, 0.3), 0px 1px 3px 1px rgba(60, 64, 67, 0.15);\n",
              "      fill: #174EA6;\n",
              "    }\n",
              "\n",
              "    .colab-df-buttons div {\n",
              "      margin-bottom: 4px;\n",
              "    }\n",
              "\n",
              "    [theme=dark] .colab-df-convert {\n",
              "      background-color: #3B4455;\n",
              "      fill: #D2E3FC;\n",
              "    }\n",
              "\n",
              "    [theme=dark] .colab-df-convert:hover {\n",
              "      background-color: #434B5C;\n",
              "      box-shadow: 0px 1px 3px 1px rgba(0, 0, 0, 0.15);\n",
              "      filter: drop-shadow(0px 1px 2px rgba(0, 0, 0, 0.3));\n",
              "      fill: #FFFFFF;\n",
              "    }\n",
              "  </style>\n",
              "\n",
              "    <script>\n",
              "      const buttonEl =\n",
              "        document.querySelector('#df-0b8b8538-c654-4a5f-a71e-0ca4b2e35379 button.colab-df-convert');\n",
              "      buttonEl.style.display =\n",
              "        google.colab.kernel.accessAllowed ? 'block' : 'none';\n",
              "\n",
              "      async function convertToInteractive(key) {\n",
              "        const element = document.querySelector('#df-0b8b8538-c654-4a5f-a71e-0ca4b2e35379');\n",
              "        const dataTable =\n",
              "          await google.colab.kernel.invokeFunction('convertToInteractive',\n",
              "                                                    [key], {});\n",
              "        if (!dataTable) return;\n",
              "\n",
              "        const docLinkHtml = 'Like what you see? Visit the ' +\n",
              "          '<a target=\"_blank\" href=https://colab.research.google.com/notebooks/data_table.ipynb>data table notebook</a>'\n",
              "          + ' to learn more about interactive tables.';\n",
              "        element.innerHTML = '';\n",
              "        dataTable['output_type'] = 'display_data';\n",
              "        await google.colab.output.renderOutput(dataTable, element);\n",
              "        const docLink = document.createElement('div');\n",
              "        docLink.innerHTML = docLinkHtml;\n",
              "        element.appendChild(docLink);\n",
              "      }\n",
              "    </script>\n",
              "  </div>\n",
              "\n",
              "\n",
              "<div id=\"df-b975ec29-8a64-412b-945c-c485612db00c\">\n",
              "  <button class=\"colab-df-quickchart\" onclick=\"quickchart('df-b975ec29-8a64-412b-945c-c485612db00c')\"\n",
              "            title=\"Suggest charts\"\n",
              "            style=\"display:none;\">\n",
              "\n",
              "<svg xmlns=\"http://www.w3.org/2000/svg\" height=\"24px\"viewBox=\"0 0 24 24\"\n",
              "     width=\"24px\">\n",
              "    <g>\n",
              "        <path d=\"M19 3H5c-1.1 0-2 .9-2 2v14c0 1.1.9 2 2 2h14c1.1 0 2-.9 2-2V5c0-1.1-.9-2-2-2zM9 17H7v-7h2v7zm4 0h-2V7h2v10zm4 0h-2v-4h2v4z\"/>\n",
              "    </g>\n",
              "</svg>\n",
              "  </button>\n",
              "\n",
              "<style>\n",
              "  .colab-df-quickchart {\n",
              "      --bg-color: #E8F0FE;\n",
              "      --fill-color: #1967D2;\n",
              "      --hover-bg-color: #E2EBFA;\n",
              "      --hover-fill-color: #174EA6;\n",
              "      --disabled-fill-color: #AAA;\n",
              "      --disabled-bg-color: #DDD;\n",
              "  }\n",
              "\n",
              "  [theme=dark] .colab-df-quickchart {\n",
              "      --bg-color: #3B4455;\n",
              "      --fill-color: #D2E3FC;\n",
              "      --hover-bg-color: #434B5C;\n",
              "      --hover-fill-color: #FFFFFF;\n",
              "      --disabled-bg-color: #3B4455;\n",
              "      --disabled-fill-color: #666;\n",
              "  }\n",
              "\n",
              "  .colab-df-quickchart {\n",
              "    background-color: var(--bg-color);\n",
              "    border: none;\n",
              "    border-radius: 50%;\n",
              "    cursor: pointer;\n",
              "    display: none;\n",
              "    fill: var(--fill-color);\n",
              "    height: 32px;\n",
              "    padding: 0;\n",
              "    width: 32px;\n",
              "  }\n",
              "\n",
              "  .colab-df-quickchart:hover {\n",
              "    background-color: var(--hover-bg-color);\n",
              "    box-shadow: 0 1px 2px rgba(60, 64, 67, 0.3), 0 1px 3px 1px rgba(60, 64, 67, 0.15);\n",
              "    fill: var(--button-hover-fill-color);\n",
              "  }\n",
              "\n",
              "  .colab-df-quickchart-complete:disabled,\n",
              "  .colab-df-quickchart-complete:disabled:hover {\n",
              "    background-color: var(--disabled-bg-color);\n",
              "    fill: var(--disabled-fill-color);\n",
              "    box-shadow: none;\n",
              "  }\n",
              "\n",
              "  .colab-df-spinner {\n",
              "    border: 2px solid var(--fill-color);\n",
              "    border-color: transparent;\n",
              "    border-bottom-color: var(--fill-color);\n",
              "    animation:\n",
              "      spin 1s steps(1) infinite;\n",
              "  }\n",
              "\n",
              "  @keyframes spin {\n",
              "    0% {\n",
              "      border-color: transparent;\n",
              "      border-bottom-color: var(--fill-color);\n",
              "      border-left-color: var(--fill-color);\n",
              "    }\n",
              "    20% {\n",
              "      border-color: transparent;\n",
              "      border-left-color: var(--fill-color);\n",
              "      border-top-color: var(--fill-color);\n",
              "    }\n",
              "    30% {\n",
              "      border-color: transparent;\n",
              "      border-left-color: var(--fill-color);\n",
              "      border-top-color: var(--fill-color);\n",
              "      border-right-color: var(--fill-color);\n",
              "    }\n",
              "    40% {\n",
              "      border-color: transparent;\n",
              "      border-right-color: var(--fill-color);\n",
              "      border-top-color: var(--fill-color);\n",
              "    }\n",
              "    60% {\n",
              "      border-color: transparent;\n",
              "      border-right-color: var(--fill-color);\n",
              "    }\n",
              "    80% {\n",
              "      border-color: transparent;\n",
              "      border-right-color: var(--fill-color);\n",
              "      border-bottom-color: var(--fill-color);\n",
              "    }\n",
              "    90% {\n",
              "      border-color: transparent;\n",
              "      border-bottom-color: var(--fill-color);\n",
              "    }\n",
              "  }\n",
              "</style>\n",
              "\n",
              "  <script>\n",
              "    async function quickchart(key) {\n",
              "      const quickchartButtonEl =\n",
              "        document.querySelector('#' + key + ' button');\n",
              "      quickchartButtonEl.disabled = true;  // To prevent multiple clicks.\n",
              "      quickchartButtonEl.classList.add('colab-df-spinner');\n",
              "      try {\n",
              "        const charts = await google.colab.kernel.invokeFunction(\n",
              "            'suggestCharts', [key], {});\n",
              "      } catch (error) {\n",
              "        console.error('Error during call to suggestCharts:', error);\n",
              "      }\n",
              "      quickchartButtonEl.classList.remove('colab-df-spinner');\n",
              "      quickchartButtonEl.classList.add('colab-df-quickchart-complete');\n",
              "    }\n",
              "    (() => {\n",
              "      let quickchartButtonEl =\n",
              "        document.querySelector('#df-b975ec29-8a64-412b-945c-c485612db00c button');\n",
              "      quickchartButtonEl.style.display =\n",
              "        google.colab.kernel.accessAllowed ? 'block' : 'none';\n",
              "    })();\n",
              "  </script>\n",
              "</div>\n",
              "    </div>\n",
              "  </div>\n"
            ]
          },
          "metadata": {},
          "execution_count": 7
        }
      ]
    },
    {
      "cell_type": "markdown",
      "source": [
        "**Tokenizer**"
      ],
      "metadata": {
        "id": "RNidaBkzS7NE"
      }
    },
    {
      "cell_type": "code",
      "source": [
        "# get in one list\n",
        "queries = df.Queries.astype(str).to_list()\n",
        "response = df.Response.astype(str).to_list()"
      ],
      "metadata": {
        "id": "iOAA19-pTE9u"
      },
      "execution_count": null,
      "outputs": []
    },
    {
      "cell_type": "code",
      "source": [
        "def tokenizer(text):\n",
        "  tokenizer = Tokenizer()\n",
        "  tokenizer.fit_on_texts(text)\n",
        "  return tokenizer, tokenizer.texts_to_sequences(text)"
      ],
      "metadata": {
        "id": "YvDA1GCqtK_T"
      },
      "execution_count": null,
      "outputs": []
    },
    {
      "cell_type": "code",
      "source": [
        "ques_tokenizer, ques_encoded= tokenizer(text= queries)\n",
        "ans_tokenizer, ans_encoded= tokenizer(text= response)"
      ],
      "metadata": {
        "id": "KnTf2jtrtRvs"
      },
      "execution_count": null,
      "outputs": []
    },
    {
      "cell_type": "code",
      "source": [
        "for resp in zip(response[:5]):\n",
        "    print(resp)\n",
        "\n",
        "for encoded in zip(ans_encoded[:5]):\n",
        "    print(encoded)"
      ],
      "metadata": {
        "colab": {
          "base_uri": "https://localhost:8080/"
        },
        "id": "BKrWIurEz9lz",
        "outputId": "3e35bc6b-976a-4c18-f01b-5948457f9625"
      },
      "execution_count": null,
      "outputs": [
        {
          "output_type": "stream",
          "name": "stdout",
          "text": [
            "('শুরু হাই আমি কীভাবে সাহায্য করতে পারি শেষ',)\n",
            "('শুরু হ্যালো আমি আপনাকে কীভাবে সাহায্য করতে পারি শেষ',)\n",
            "('শুরু হ্যালো আমি আপনার জন্য কী করতে পারি শেষ',)\n",
            "('শুরু হাই আমি আপনাকে কীভাবে সাহায্য করতে পারি শেষ',)\n",
            "('শুরু হাই আমি আপনার জন্য কী করতে পারি শেষ',)\n",
            "([2, 298, 3, 155, 101, 9, 37, 1],)\n",
            "([2, 228, 3, 28, 155, 101, 9, 37, 1],)\n",
            "([2, 228, 3, 5, 12, 40, 9, 37, 1],)\n",
            "([2, 298, 3, 28, 155, 101, 9, 37, 1],)\n",
            "([2, 298, 3, 5, 12, 40, 9, 37, 1],)\n"
          ]
        }
      ]
    },
    {
      "cell_type": "markdown",
      "source": [
        "**Get corresponding word mapping**"
      ],
      "metadata": {
        "id": "iqnOhMQf75qw"
      }
    },
    {
      "cell_type": "code",
      "source": [
        "# required for test phrase\n",
        "ques_index_word = ques_tokenizer.index_word\n",
        "ans_index_word= ans_tokenizer.index_word\n",
        "ans_word_index =ans_tokenizer.word_index"
      ],
      "metadata": {
        "id": "PdH7UsWZwxPY"
      },
      "execution_count": null,
      "outputs": []
    },
    {
      "cell_type": "code",
      "source": [
        "# print(ques_tokenizer.word_counts)"
      ],
      "metadata": {
        "id": "Mi17Q76pc4ng"
      },
      "execution_count": null,
      "outputs": []
    },
    {
      "cell_type": "code",
      "source": [
        "print({key: ans_index_word[key] for key in list(ans_index_word.keys())[:5]})"
      ],
      "metadata": {
        "colab": {
          "base_uri": "https://localhost:8080/"
        },
        "id": "G_3GU3IxcweD",
        "outputId": "4f19af6e-1fbd-4346-ffb7-d2099e80124d"
      },
      "execution_count": null,
      "outputs": [
        {
          "output_type": "stream",
          "name": "stdout",
          "text": [
            "{1: 'শেষ', 2: 'শুরু', 3: 'আমি', 4: 'আপনি', 5: 'আপনার'}\n"
          ]
        }
      ]
    },
    {
      "cell_type": "code",
      "source": [
        "print({key: ans_word_index[key] for key in list(ans_word_index.keys())[10:20]})"
      ],
      "metadata": {
        "colab": {
          "base_uri": "https://localhost:8080/"
        },
        "id": "4l0s2xV_c1Hz",
        "outputId": "96222063-d476-42c8-ce65-e6bb6408255a"
      },
      "execution_count": null,
      "outputs": [
        {
          "output_type": "stream",
          "name": "stdout",
          "text": [
            "{'এটি': 11, 'জন্য': 12, 'না': 13, 'এটা': 14, 'সম্ভাবনা': 15, 'এবং': 16, 'আছে।': 17, 'আছে': 18, 'করি': 19, 'যে': 20}\n"
          ]
        }
      ]
    },
    {
      "cell_type": "markdown",
      "source": [
        "**Vocabulary size**"
      ],
      "metadata": {
        "id": "6RwwhVX88rMl"
      }
    },
    {
      "cell_type": "code",
      "source": [
        "ANS_VOCAB_SIZE = len(ans_tokenizer.word_counts) + 1 # +1 reserved for an unknown word\n",
        "ANS_VOCAB_SIZE"
      ],
      "metadata": {
        "colab": {
          "base_uri": "https://localhost:8080/"
        },
        "id": "BU_0O-ROtV_S",
        "outputId": "16fbb77c-bd46-420e-ca6f-5a38985512d4"
      },
      "execution_count": null,
      "outputs": [
        {
          "output_type": "execute_result",
          "data": {
            "text/plain": [
              "9190"
            ]
          },
          "metadata": {},
          "execution_count": 16
        }
      ]
    },
    {
      "cell_type": "code",
      "source": [
        "QUES_VOCAB_SIZE = len(ques_tokenizer.word_counts) + 1 # For zero padding we have added +1 in ques vocab size\n",
        "QUES_VOCAB_SIZE"
      ],
      "metadata": {
        "colab": {
          "base_uri": "https://localhost:8080/"
        },
        "id": "da1DV5uwtl6l",
        "outputId": "ecb94065-2d70-422d-8768-2766e2033302"
      },
      "execution_count": null,
      "outputs": [
        {
          "output_type": "execute_result",
          "data": {
            "text/plain": [
              "9234"
            ]
          },
          "metadata": {},
          "execution_count": 17
        }
      ]
    },
    {
      "cell_type": "markdown",
      "source": [
        "**Find Max queries and response length**"
      ],
      "metadata": {
        "id": "hvBnqEK3-9-5"
      }
    },
    {
      "cell_type": "code",
      "source": [
        "max_ques_len = 0\n",
        "for i in range(len(ques_encoded)):\n",
        "  if len(ques_encoded[i]) > max_ques_len:\n",
        "    max_ques_len= len(ques_encoded[i])\n",
        "\n",
        "max_ans_len = 0\n",
        "for i in range(len(ans_encoded)):\n",
        "  if len(ans_encoded[i]) > max_ans_len:\n",
        "    max_ans_len= len(ans_encoded[i])\n",
        "max_ans_len, max_ans_len"
      ],
      "metadata": {
        "colab": {
          "base_uri": "https://localhost:8080/"
        },
        "id": "l68WTlQRtuys",
        "outputId": "3df6d032-5500-4483-ec90-d3cc3fb5736b"
      },
      "execution_count": null,
      "outputs": [
        {
          "output_type": "execute_result",
          "data": {
            "text/plain": [
              "(30, 30)"
            ]
          },
          "metadata": {},
          "execution_count": 18
        }
      ]
    },
    {
      "cell_type": "markdown",
      "source": [
        "**Padding**"
      ],
      "metadata": {
        "id": "SHgjNKSk8-4n"
      }
    },
    {
      "cell_type": "code",
      "source": [
        "# Use max length for padding for ques and ans\n",
        "ques_padded = pad_sequences(ques_encoded, maxlen=max_ques_len, padding='post')\n",
        "ans_padded = pad_sequences(ans_encoded, maxlen=max_ans_len, padding='post')"
      ],
      "metadata": {
        "id": "InXIKxr7t20p"
      },
      "execution_count": null,
      "outputs": []
    },
    {
      "cell_type": "code",
      "source": [
        "ans_padded"
      ],
      "metadata": {
        "colab": {
          "base_uri": "https://localhost:8080/"
        },
        "id": "Ql0sXseXBSbC",
        "outputId": "f64816f7-d35e-4232-8071-f5dd9a7dc135"
      },
      "execution_count": null,
      "outputs": [
        {
          "output_type": "execute_result",
          "data": {
            "text/plain": [
              "array([[   2,  298,    3, ...,    0,    0,    0],\n",
              "       [   2,  228,    3, ...,    0,    0,    0],\n",
              "       [   2,  228,    3, ...,    0,    0,    0],\n",
              "       ...,\n",
              "       [   2,   13,    1, ...,    0,    0,    0],\n",
              "       [   2, 9188,    1, ...,    0,    0,    0],\n",
              "       [   2,    3, 9189, ...,    0,    0,    0]], dtype=int32)"
            ]
          },
          "metadata": {},
          "execution_count": 20
        }
      ]
    },
    {
      "cell_type": "code",
      "source": [
        "ques_padded"
      ],
      "metadata": {
        "colab": {
          "base_uri": "https://localhost:8080/"
        },
        "id": "C03KDU5dBMpW",
        "outputId": "9c2aad91-7b3d-43bc-ae15-c0931f4c627f"
      },
      "execution_count": null,
      "outputs": [
        {
          "output_type": "execute_result",
          "data": {
            "text/plain": [
              "array([[  15,   14,    0, ...,    0,    0,    0],\n",
              "       [3535,    0,    0, ...,    0,    0,    0],\n",
              "       [ 245,    0,    0, ...,    0,    0,    0],\n",
              "       ...,\n",
              "       [   3,    1, 1918, ...,    0,    0,    0],\n",
              "       [  19, 1394,  468, ...,    0,    0,    0],\n",
              "       [  19, 1394,  468, ...,    0,    0,    0]], dtype=int32)"
            ]
          },
          "metadata": {},
          "execution_count": 21
        }
      ]
    },
    {
      "cell_type": "markdown",
      "source": [
        "**Train-Test splitting**"
      ],
      "metadata": {
        "id": "_CRDJODf9VV_"
      }
    },
    {
      "cell_type": "code",
      "source": [
        "X_train, X_test, y_train, y_test = train_test_split(ques_padded, ans_padded, test_size=0.10, random_state= 1000, shuffle =True)"
      ],
      "metadata": {
        "id": "g7NnTQJft7ho"
      },
      "execution_count": null,
      "outputs": []
    },
    {
      "cell_type": "code",
      "source": [
        "X_train.shape, X_test.shape, y_train.shape, y_test.shape"
      ],
      "metadata": {
        "colab": {
          "base_uri": "https://localhost:8080/"
        },
        "id": "u5mIa-4mt-N_",
        "outputId": "ed86a115-186d-4d9c-e635-91eda7514ec9"
      },
      "execution_count": null,
      "outputs": [
        {
          "output_type": "execute_result",
          "data": {
            "text/plain": [
              "((11367, 30), (1264, 30), (11367, 30), (1264, 30))"
            ]
          },
          "metadata": {},
          "execution_count": 23
        }
      ]
    },
    {
      "cell_type": "markdown",
      "source": [
        "**Attention Mechanism**"
      ],
      "metadata": {
        "id": "0hz6d5uhGgwZ"
      }
    },
    {
      "cell_type": "code",
      "source": [
        "class BahdanauAttention(tf.keras.layers.Layer):\n",
        "  def __init__(self, units):\n",
        "    super(BahdanauAttention, self).__init__()\n",
        "    self.W1 = tf.keras.layers.Dense(units)\n",
        "    self.W2 = tf.keras.layers.Dense(units)\n",
        "    self.V = tf.keras.layers.Dense(1)\n",
        "\n",
        "  def call(self, query, values):\n",
        "    hidden_with_time_axis = tf.expand_dims(query, 1)\n",
        "    score = self.V(tf.nn.tanh(self.W1(values) + self.W2(hidden_with_time_axis)))\n",
        "    attention_weights = tf.nn.softmax(score, axis=1)\n",
        "    context_vector = attention_weights * values\n",
        "    context_vector = tf.reduce_sum(context_vector, axis=1)\n",
        "    return context_vector, attention_weights"
      ],
      "metadata": {
        "id": "SDlhZx9BB66G"
      },
      "execution_count": null,
      "outputs": []
    },
    {
      "cell_type": "markdown",
      "source": [
        "**Building Model**"
      ],
      "metadata": {
        "id": "8qEIILNGIiHf"
      }
    },
    {
      "cell_type": "markdown",
      "source": [
        "**Encoder + Bidirectional LSTM**"
      ],
      "metadata": {
        "id": "ymOFZkc6emSv"
      }
    },
    {
      "cell_type": "code",
      "source": [
        "# Encoder\n",
        "encoder_inputs = Input(shape=(max_ques_len,))\n",
        "encoder_embedding = Embedding(QUES_VOCAB_SIZE, 1024)(encoder_inputs)\n",
        "\n",
        "# Bidirectional LSTM layer\n",
        "encoder_lstm = Bidirectional(LSTM(256, return_sequences=True, return_state=True))\n",
        "encoder_outputs1, forw_state_h, forw_state_c, back_state_h, back_state_c = encoder_lstm(encoder_embedding)\n",
        "\n",
        "# Taking states is  different in Bidirectional because,\n",
        "# it has forward and backward states and have to consider both so We concatenate them.\n",
        "final_enc_h = Concatenate()([forw_state_h,back_state_h])\n",
        "final_enc_c = Concatenate()([forw_state_c,back_state_c])\n",
        "\n",
        "# Now take only states and create context vector\n",
        "encoder_states =[final_enc_h, final_enc_c]"
      ],
      "metadata": {
        "id": "1w34xoUDelMM"
      },
      "execution_count": null,
      "outputs": []
    },
    {
      "cell_type": "markdown",
      "source": [
        "**Decoder**"
      ],
      "metadata": {
        "id": "1Fb4HULXfYxv"
      }
    },
    {
      "cell_type": "code",
      "source": [
        "# Decoder\n",
        "decoder_inputs = Input(shape=(max_ans_len,))\n",
        "dec_emb_layer = Embedding(ANS_VOCAB_SIZE, 1024)\n",
        "decoder_embedding = dec_emb_layer(decoder_inputs)\n",
        "\n",
        "# We used bidirectional layer above so we have to double units of this lstm\n",
        "decoder_lstm = LSTM(256*2, return_sequences=True, return_state=True)\n",
        "# just take output of this decoder dont need self states\n",
        "decoder_outputs, _, _ = decoder_lstm(decoder_embedding, initial_state=encoder_states)"
      ],
      "metadata": {
        "id": "Lj2WU0VwiW0t"
      },
      "execution_count": null,
      "outputs": []
    },
    {
      "cell_type": "markdown",
      "source": [
        "**Attention Layer**"
      ],
      "metadata": {
        "id": "CZN0rCJuiv4X"
      }
    },
    {
      "cell_type": "code",
      "source": [
        "# Attention Layer\n",
        "attention_layer = BahdanauAttention(units=256)\n",
        "context_vector, attention_weights = attention_layer(query = decoder_outputs, values = encoder_outputs1)\n",
        "\n",
        "# Concat attention output and decoder LSTM output\n",
        "decoder_concat_input = Concatenate(axis=-1, name='concat_layer')([decoder_outputs, context_vector])"
      ],
      "metadata": {
        "id": "wXW2UHVjiy6l"
      },
      "execution_count": null,
      "outputs": []
    },
    {
      "cell_type": "markdown",
      "source": [
        "**Dense Layer**"
      ],
      "metadata": {
        "id": "B4i4FhFxCcY6"
      }
    },
    {
      "cell_type": "code",
      "source": [
        "# Dense layer\n",
        "# here this is going to predicct so we can add dense layer here, we want to convert predicted numbers into probability so use softmax\n",
        "decoder_dense = Dense(ANS_VOCAB_SIZE, activation='softmax')\n",
        "# We will again feed predicted output into decoder to predict its next word\n",
        "final_output = decoder_dense(decoder_concat_input)"
      ],
      "metadata": {
        "id": "rANEw3UpuK8O"
      },
      "execution_count": null,
      "outputs": []
    },
    {
      "cell_type": "code",
      "source": [
        "# Define the model\n",
        "model = Model([encoder_inputs, decoder_inputs], final_output)\n",
        "model.summary()"
      ],
      "metadata": {
        "colab": {
          "base_uri": "https://localhost:8080/"
        },
        "id": "2zqKnnD-7h4q",
        "outputId": "7bd721f1-b8bb-4be7-add6-172e23b7e316"
      },
      "execution_count": null,
      "outputs": [
        {
          "output_type": "stream",
          "name": "stdout",
          "text": [
            "Model: \"model\"\n",
            "__________________________________________________________________________________________________\n",
            " Layer (type)                Output Shape                 Param #   Connected to                  \n",
            "==================================================================================================\n",
            " input_1 (InputLayer)        [(None, 30)]                 0         []                            \n",
            "                                                                                                  \n",
            " embedding (Embedding)       (None, 30, 1024)             9455616   ['input_1[0][0]']             \n",
            "                                                                                                  \n",
            " input_2 (InputLayer)        [(None, 30)]                 0         []                            \n",
            "                                                                                                  \n",
            " bidirectional (Bidirection  [(None, 30, 512),            2623488   ['embedding[0][0]']           \n",
            " al)                          (None, 256),                                                        \n",
            "                              (None, 256),                                                        \n",
            "                              (None, 256),                                                        \n",
            "                              (None, 256)]                                                        \n",
            "                                                                                                  \n",
            " embedding_1 (Embedding)     (None, 30, 1024)             9410560   ['input_2[0][0]']             \n",
            "                                                                                                  \n",
            " concatenate (Concatenate)   (None, 512)                  0         ['bidirectional[0][1]',       \n",
            "                                                                     'bidirectional[0][3]']       \n",
            "                                                                                                  \n",
            " concatenate_1 (Concatenate  (None, 512)                  0         ['bidirectional[0][2]',       \n",
            " )                                                                   'bidirectional[0][4]']       \n",
            "                                                                                                  \n",
            " lstm_1 (LSTM)               [(None, 30, 512),            3147776   ['embedding_1[0][0]',         \n",
            "                              (None, 512),                           'concatenate[0][0]',         \n",
            "                              (None, 512)]                           'concatenate_1[0][0]']       \n",
            "                                                                                                  \n",
            " bahdanau_attention (Bahdan  ((None, 30, 512),            262913    ['lstm_1[0][0]',              \n",
            " auAttention)                 (None, None, 30, 1))                   'bidirectional[0][0]']       \n",
            "                                                                                                  \n",
            " concat_layer (Concatenate)  (None, 30, 1024)             0         ['lstm_1[0][0]',              \n",
            "                                                                     'bahdanau_attention[0][0]']  \n",
            "                                                                                                  \n",
            " dense_3 (Dense)             (None, 30, 9190)             9419750   ['concat_layer[0][0]']        \n",
            "                                                                                                  \n",
            "==================================================================================================\n",
            "Total params: 34320103 (130.92 MB)\n",
            "Trainable params: 34320103 (130.92 MB)\n",
            "Non-trainable params: 0 (0.00 Byte)\n",
            "__________________________________________________________________________________________________\n"
          ]
        }
      ]
    },
    {
      "cell_type": "code",
      "source": [
        "plot_model(model)"
      ],
      "metadata": {
        "colab": {
          "base_uri": "https://localhost:8080/",
          "height": 758
        },
        "id": "3ruWgcHguX_j",
        "outputId": "8bdbad06-8d71-498c-94a7-b9f879089deb"
      },
      "execution_count": null,
      "outputs": [
        {
          "output_type": "execute_result",
          "data": {
            "image/png": "[encoded data removed]",
            "text/plain": [
              "<IPython.core.display.Image object>"
            ]
          },
          "metadata": {},
          "execution_count": 30
        }
      ]
    },
    {
      "cell_type": "markdown",
      "source": [
        "**Optimizer**"
      ],
      "metadata": {
        "id": "FCHIvMYdPrO1"
      }
    },
    {
      "cell_type": "code",
      "source": [
        "optimizer = Adam(learning_rate=0.01)\n",
        "model.compile(optimizer=optimizer, loss='sparse_categorical_crossentropy', metrics=['accuracy'])"
      ],
      "metadata": {
        "id": "mpBiaqnhud5_"
      },
      "execution_count": null,
      "outputs": []
    },
    {
      "cell_type": "markdown",
      "source": [
        "**EarlyStopping**"
      ],
      "metadata": {
        "id": "sTrq2aUbPuBr"
      }
    },
    {
      "cell_type": "code",
      "source": [
        "early_stopping = EarlyStopping(monitor='val_accuracy', patience=10)"
      ],
      "metadata": {
        "id": "eNvfKK7MPxsb"
      },
      "execution_count": null,
      "outputs": []
    },
    {
      "cell_type": "code",
      "source": [
        "# Training set\n",
        "encoder_input_data = X_train\n",
        "# To make same as target data skip last number which is just padding\n",
        "decoder_input_data = y_train[:,:-1]\n",
        "# Decoder target data has to be one step ahead so we are taking from 1 as told in keras docs\n",
        "decoder_target_data = y_train[:,1:]\n",
        "\n",
        "# Testing\n",
        "encoder_input_test = X_test\n",
        "decoder_input_test = y_test[:,:-1]\n",
        "decoder_target_test= y_test[:,1:]\n",
        "\n",
        "\n",
        "decoder_input_data = pad_sequences(decoder_input_data, maxlen=30)\n",
        "decoder_target_data = pad_sequences(decoder_target_data, maxlen=30)\n",
        "decoder_input_test = pad_sequences(decoder_input_test, maxlen=30)\n",
        "decoder_target_test = pad_sequences(decoder_target_test, maxlen=30)"
      ],
      "metadata": {
        "id": "R1l5YXfCuiZr"
      },
      "execution_count": null,
      "outputs": []
    },
    {
      "cell_type": "code",
      "source": [
        "history = model.fit([encoder_input_data, decoder_input_data],decoder_target_data,\n",
        "                    epochs = 100,\n",
        "                    batch_size = 64,\n",
        "                    validation_data = ([encoder_input_test, decoder_input_test],decoder_target_test),\n",
        "                    callbacks= [early_stopping]\n",
        "                  )"
      ],
      "metadata": {
        "id": "8joCzWT6uq0P",
        "colab": {
          "base_uri": "https://localhost:8080/"
        },
        "outputId": "5dead698-be4e-4b99-9610-4391df1cb5c9"
      },
      "execution_count": null,
      "outputs": [
        {
          "output_type": "stream",
          "name": "stdout",
          "text": [
            "Epoch 1/100\n"
          ]
        },
        {
          "output_type": "stream",
          "name": "stderr",
          "text": [
            "/usr/local/lib/python3.10/dist-packages/tensorflow/python/data/ops/structured_function.py:258: UserWarning: Even though the `tf.config.experimental_run_functions_eagerly` option is set, this option does not apply to tf.data functions. To force eager execution of tf.data functions, please use `tf.data.experimental.enable_debug_mode()`.\n",
            "  warnings.warn(\n"
          ]
        },
        {
          "output_type": "stream",
          "name": "stdout",
          "text": [
            "178/178 [==============================] - 32s 169ms/step - loss: 1.4067 - accuracy: 0.8206 - val_loss: 1.1771 - val_accuracy: 0.8353\n",
            "Epoch 2/100\n",
            "178/178 [==============================] - 31s 175ms/step - loss: 1.0191 - accuracy: 0.8448 - val_loss: 1.1182 - val_accuracy: 0.8419\n",
            "Epoch 3/100\n",
            "178/178 [==============================] - 30s 169ms/step - loss: 0.8618 - accuracy: 0.8534 - val_loss: 1.1255 - val_accuracy: 0.8422\n",
            "Epoch 4/100\n",
            "178/178 [==============================] - 30s 170ms/step - loss: 0.7501 - accuracy: 0.8607 - val_loss: 1.1660 - val_accuracy: 0.8415\n",
            "Epoch 5/100\n",
            "178/178 [==============================] - 30s 168ms/step - loss: 0.6655 - accuracy: 0.8699 - val_loss: 1.2073 - val_accuracy: 0.8428\n",
            "Epoch 6/100\n",
            "178/178 [==============================] - 32s 177ms/step - loss: 0.6007 - accuracy: 0.8785 - val_loss: 1.2466 - val_accuracy: 0.8414\n",
            "Epoch 7/100\n",
            "178/178 [==============================] - 30s 168ms/step - loss: 0.5469 - accuracy: 0.8864 - val_loss: 1.2769 - val_accuracy: 0.8426\n",
            "Epoch 8/100\n",
            "178/178 [==============================] - 30s 169ms/step - loss: 0.4996 - accuracy: 0.8934 - val_loss: 1.3091 - val_accuracy: 0.8426\n",
            "Epoch 9/100\n",
            "178/178 [==============================] - 30s 169ms/step - loss: 0.4644 - accuracy: 0.8991 - val_loss: 1.3393 - val_accuracy: 0.8432\n",
            "Epoch 10/100\n",
            "178/178 [==============================] - 30s 169ms/step - loss: 0.4344 - accuracy: 0.9042 - val_loss: 1.3747 - val_accuracy: 0.8420\n",
            "Epoch 11/100\n",
            "178/178 [==============================] - 30s 171ms/step - loss: 0.4103 - accuracy: 0.9081 - val_loss: 1.4069 - val_accuracy: 0.8405\n",
            "Epoch 12/100\n",
            "178/178 [==============================] - 32s 178ms/step - loss: 0.3966 - accuracy: 0.9106 - val_loss: 1.4315 - val_accuracy: 0.8421\n",
            "Epoch 13/100\n",
            "178/178 [==============================] - 32s 177ms/step - loss: 0.3784 - accuracy: 0.9137 - val_loss: 1.4572 - val_accuracy: 0.8424\n",
            "Epoch 14/100\n",
            "178/178 [==============================] - 31s 173ms/step - loss: 0.3699 - accuracy: 0.9145 - val_loss: 1.4864 - val_accuracy: 0.8420\n",
            "Epoch 15/100\n",
            "178/178 [==============================] - 30s 171ms/step - loss: 0.3606 - accuracy: 0.9166 - val_loss: 1.5084 - val_accuracy: 0.8420\n",
            "Epoch 16/100\n",
            "178/178 [==============================] - 30s 169ms/step - loss: 0.3498 - accuracy: 0.9178 - val_loss: 1.5296 - val_accuracy: 0.8407\n",
            "Epoch 17/100\n",
            "178/178 [==============================] - 30s 169ms/step - loss: 0.3444 - accuracy: 0.9185 - val_loss: 1.5590 - val_accuracy: 0.8424\n",
            "Epoch 18/100\n",
            "178/178 [==============================] - 30s 170ms/step - loss: 0.3400 - accuracy: 0.9193 - val_loss: 1.5866 - val_accuracy: 0.8399\n",
            "Epoch 19/100\n",
            "178/178 [==============================] - 32s 178ms/step - loss: 0.3352 - accuracy: 0.9198 - val_loss: 1.6051 - val_accuracy: 0.8406\n"
          ]
        }
      ]
    },
    {
      "cell_type": "markdown",
      "source": [
        "**Save Model**"
      ],
      "metadata": {
        "id": "Joa8WGO8XNKe"
      }
    },
    {
      "cell_type": "code",
      "source": [
        "model.save_weights(\"/content/drive/MyDrive/CSE715-Project Group 6/Codebase\")"
      ],
      "metadata": {
        "id": "STfTk9xDvK_m"
      },
      "execution_count": null,
      "outputs": []
    },
    {
      "cell_type": "markdown",
      "source": [
        "**Check for max accuracy**"
      ],
      "metadata": {
        "id": "Nxi1KcaCb2Oo"
      }
    },
    {
      "cell_type": "code",
      "source": [
        "train_accuracy = history.history['accuracy']\n",
        "val_accuracy = history.history['val_accuracy']\n",
        "\n",
        "# Get the index of the maximum validation accuracy\n",
        "best_val_accuracy_index = val_accuracy.index(max(val_accuracy))\n",
        "\n",
        "# Use the index to get the corresponding training accuracy\n",
        "best_train_accuracy = train_accuracy[best_val_accuracy_index]\n",
        "\n",
        "# Print the best training and validation accuracies\n",
        "print(\"Training Accuracy:\", best_train_accuracy)\n",
        "print(\"Validation Accuracy:\", max(val_accuracy))"
      ],
      "metadata": {
        "id": "pF4d1UXjYC7i",
        "colab": {
          "base_uri": "https://localhost:8080/"
        },
        "outputId": "8acbff70-8612-4a01-d17a-bc7926170aad"
      },
      "execution_count": null,
      "outputs": [
        {
          "output_type": "stream",
          "name": "stdout",
          "text": [
            "Training Accuracy: 0.8990527987480164\n",
            "Validation Accuracy: 0.8431698083877563\n"
          ]
        }
      ]
    },
    {
      "cell_type": "markdown",
      "source": [
        "**Plot training & validation accuracy values**"
      ],
      "metadata": {
        "id": "vnprP46Eb9th"
      }
    },
    {
      "cell_type": "code",
      "source": [
        "import matplotlib.pyplot as plt\n",
        "\n",
        "# Plot training & validation accuracy values\n",
        "plt.plot(history.history['accuracy'])\n",
        "plt.plot(history.history['val_accuracy'])\n",
        "plt.title('Model accuracy')\n",
        "plt.xlabel('Epoch')\n",
        "plt.ylabel('Accuracy')\n",
        "plt.legend(['Train', 'Validation'], loc='upper left')\n",
        "plt.show()\n",
        "\n",
        "# Plot training & validation loss values\n",
        "plt.plot(history.history['loss'])\n",
        "plt.plot(history.history['val_loss'])\n",
        "plt.title('Model loss')\n",
        "plt.xlabel('Epoch')\n",
        "plt.ylabel('Loss')\n",
        "plt.legend(['Train', 'Validation'], loc='upper left')\n",
        "plt.show()\n"
      ],
      "metadata": {
        "id": "utoIIGo-YKGy",
        "colab": {
          "base_uri": "https://localhost:8080/",
          "height": 927
        },
        "outputId": "664bf0f1-a900-4c7d-bc70-9646611b15d8"
      },
      "execution_count": null,
      "outputs": [
        {
          "output_type": "display_data",
          "data": {
            "text/plain": [
              "<Figure size 640x480 with 1 Axes>"
            ],
            "image/png": "[encoded data removed]"
          },
          "metadata": {}
        },
        {
          "output_type": "display_data",
          "data": {
            "text/plain": [
              "<Figure size 640x480 with 1 Axes>"
            ],
            "image/png": "[encoded data removed]"
          },
          "metadata": {}
        }
      ]
    },
    {
      "cell_type": "markdown",
      "source": [
        "**Inference Model**"
      ],
      "metadata": {
        "id": "GPbImFv-8Ak8"
      }
    },
    {
      "cell_type": "code",
      "source": [
        "Model = model.load_weights(\"/content/drive/MyDrive/CSE715-Project Group 6/model.h5\")"
      ],
      "metadata": {
        "id": "Jcz-PwG3v5ge"
      },
      "execution_count": null,
      "outputs": []
    },
    {
      "cell_type": "code",
      "source": [
        "encoder_model = Model(encoder_inputs, outputs = [encoder_outputs1, final_enc_h, final_enc_c])\n",
        "\n",
        "decoder_state_h = Input(shape=(512,))\n",
        "decoder_state_c = Input(shape=(512,))\n",
        "decoder_hidden_state_input = Input(shape=(30, 512))\n",
        "\n",
        "dec_states = [decoder_state_h, decoder_state_c]\n",
        "\n",
        "decoder_embedding = dec_emb_layer(decoder_inputs)\n",
        "\n",
        "decoder_outputs2, state_h2, state_c2 = decoder_lstm(decoder_embedding, initial_state=dec_states)\n",
        "\n",
        "attention_result_inf, attention_weights_inf = attention_layer(query = decoder_outputs2, values = decoder_hidden_state_input)\n",
        "decoder_concat_input_inf = Concatenate(axis=-1, name='concat_layer')([decoder_outputs2, attention_result_inf])\n",
        "\n",
        "dec_states2= [state_h2, state_c2]\n",
        "\n",
        "decoder_outputs2 = decoder_dense(decoder_concat_input_inf)\n",
        "\n",
        "decoder_model= Model([decoder_inputs] + [decoder_hidden_state_input, decoder_state_h, decoder_state_c],\n",
        "                     [decoder_outputs2]+ dec_states2)"
      ],
      "metadata": {
        "id": "OvzUPjg3v5oz"
      },
      "execution_count": null,
      "outputs": []
    },
    {
      "cell_type": "markdown",
      "source": [
        "**Prediction**"
      ],
      "metadata": {
        "id": "7aBHgpy38Fff"
      }
    },
    {
      "cell_type": "code",
      "source": [
        "def get_predicted_sentence(input_seq):\n",
        "    enc_output, enc_h, enc_c = encoder_model.predict(input_seq)\n",
        "    target_seq = np.zeros((1,1))\n",
        "    target_seq[0, 0] = ans_word_index['শুরু']\n",
        "    stop_condition = False\n",
        "    decoded_sentence = ''\n",
        "\n",
        "    while not stop_condition:\n",
        "        output_tokens, h, c = decoder_model.predict([target_seq] + [enc_output, enc_h, enc_c ])\n",
        "        sampled_token_index = np.argmax(output_tokens[0, -1, :])\n",
        "        if sampled_token_index == 0:\n",
        "          break\n",
        "        else:\n",
        "            sampled_char = ans_index_word[sampled_token_index]\n",
        "\n",
        "        if (sampled_char!='শেষ'):\n",
        "            decoded_sentence += ' '+sampled_char\n",
        "        if (sampled_char == 'শেষ' or len(decoded_sentence.split()) >= 36):\n",
        "            stop_condition = True\n",
        "\n",
        "        target_seq = np.zeros((1,1))\n",
        "        target_seq[0, 0] = sampled_token_index\n",
        "\n",
        "        # Update states\n",
        "        enc_h, enc_c = h, c\n",
        "\n",
        "    return decoded_sentence"
      ],
      "metadata": {
        "id": "xQIQ1h0swANV"
      },
      "execution_count": null,
      "outputs": []
    },
    {
      "cell_type": "code",
      "source": [
        "def get_response_sentence(sequence):\n",
        "  sentence=\"\"\n",
        "  for i in sequence:\n",
        "    if ((i != 0 and i != ans_word_index['শুরু']) and i != ans_word_index['শেষ']):\n",
        "      sentence = sentence + ans_index_word[i]+' '\n",
        "  return sentence\n",
        "\n",
        "def get_ques_sentence(input_sequence):\n",
        "    sentence =''\n",
        "    for i in input_sequence:\n",
        "      if i!=0:\n",
        "        sentence =sentence +ques_index_word[i]+' '\n",
        "    return sentence"
      ],
      "metadata": {
        "id": "RCBGrKZawYvl"
      },
      "execution_count": null,
      "outputs": []
    },
    {
      "cell_type": "code",
      "source": [
        "# for i in np.random.randint(10, 500, size=15):\n",
        "#   print(\"Queries :\",get_ques_sentence(X_test[i]))\n",
        "#   print(\"Actual Sentence:\",get_response_sentence(y_test[i]))\n",
        "#   print(\"Predicted:\",get_predicted_sentence(X_test[i].reshape(1,30)))\n"
      ],
      "metadata": {
        "id": "NLfmT6BywhjT"
      },
      "execution_count": null,
      "outputs": []
    }
  ]
}